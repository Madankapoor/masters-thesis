{
 "metadata": {
  "name": ""
 },
 "nbformat": 3,
 "nbformat_minor": 0,
 "worksheets": [
  {
   "cells": [
    {
     "cell_type": "code",
     "collapsed": false,
     "input": [
      "for x in [0, 1, 2, 3, 4, 5, 6, 7, 8, 9, 10, 11, 12, 13, 14, 15, 16, 17, 18, 19]:\n",
      "    print \"status %s \" % x\n",
      "    url = \"https://bugzilla.mozilla.org/rest/bug/%s/comment?include_fields=text,time\" % (done_data[\"bugs\"][x*500][\"id\"])\n",
      "    for y in range(x*500 + 1, (x+1)*500):\n",
      "        if y >= len(done_data[\"bugs\"]):\n",
      "            break\n",
      "        url += \"&ids=%s\" % done_data[\"bugs\"][y][\"id\"]\n",
      "    r = requests.get(url)\n",
      "    data = r.json()[\"bugs\"]\n",
      "    comments.update(data)"
     ],
     "language": "python",
     "metadata": {},
     "outputs": []
    }
   ],
   "metadata": {}
  }
 ]
}