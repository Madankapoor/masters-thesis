{
 "metadata": {
  "name": ""
 },
 "nbformat": 3,
 "nbformat_minor": 0,
 "worksheets": [
  {
   "cells": [
    {
     "cell_type": "code",
     "collapsed": false,
     "input": [
      "import sys\n",
      "import random\n",
      "import matplotlib.pyplot as plt\n",
      "import numpy as np\n",
      "\n",
      "from scipy.stats import ks_2samp\n",
      "from scipy.stats import chisquare, chi2_contingency, ttest_ind, levene\n",
      "\n",
      "from triager import parsers\n",
      "\n",
      "import matplotlib\n",
      "\n",
      "plt.style.use('fivethirtyeight')\n",
      "matplotlib.rcParams.update({'font.size': 9})"
     ],
     "language": "python",
     "metadata": {},
     "outputs": [],
     "prompt_number": 1
    },
    {
     "cell_type": "code",
     "collapsed": false,
     "input": [
      "fx_parser = parsers.BugzillaParser(\"/Users/vaclavdedik/Projects/Master's Thesis/data/firefox\")\n",
      "nb_parser = parsers.CSVBugzillaParser(\"/Users/vaclavdedik/Projects/Master's Thesis/data/netbeans\")\n",
      "#mrs_parser = parsers.MRSParser(\"/Users/vaclavdedik/Projects/Master's Thesis/data/mrs\", project_match=\"OPW.*\")\n",
      "jira_parser = parsers.JiraJsonParser(\"/Users/vaclavdedik/Projects/Master's Thesis/data/prop/\", project_key=\"DPS\")\n",
      "fx_data_origin = [doc for doc in fx_parser.parse() if doc.label]\n",
      "nb_data_origin = [doc for doc in nb_parser.parse() if doc.label]\n",
      "#mrs_data_origin = [doc for doc in mrs_parser.parse() if doc.label]\n",
      "jira_data_origin = [doc for doc in jira_parser.parse() if doc.label]"
     ],
     "language": "python",
     "metadata": {},
     "outputs": [],
     "prompt_number": 9
    },
    {
     "cell_type": "code",
     "collapsed": false,
     "input": [
      "def count_labels(data):\n",
      "    labels = {}\n",
      "    for d in data:\n",
      "        if d.label in labels:\n",
      "            labels[d.label] += 1\n",
      "        else:\n",
      "            labels[d.label] = 1\n",
      "    return labels\n",
      "\n",
      "def plot_distribution_of_labels(data, title=\"Data\"):\n",
      "    labels_count = count_labels(data)\n",
      "    counts = labels_count.values()\n",
      "    filtered_counts = filter(lambda x: x >= 30, counts)\n",
      "    \n",
      "    f, (ax1, ax2) = plt.subplots(1, 2, sharex=True, figsize=(12, 6), dpi=200)\n",
      "    ax1.hist(filtered_counts)\n",
      "    ax2.hist(filtered_counts, cumulative=True, normed=True)\n",
      "    ax1.set_title(\"Histogram of %s\" % title)\n",
      "    ax2.set_title(\"Distribution of %s\" % title)\n",
      "    f.text(0.04, 0.5, 'Frequency', ha='center', va='center', rotation='vertical')\n",
      "    f.text(0.51, 0.5, 'Probability', ha='center', va='center', rotation='vertical')\n",
      "    f.text(0.5, 0.02, 'Value', ha='center', va='center')\n",
      "    plt.show()\n",
      "\n",
      "def prepare_data(data):\n",
      "    labels_count = count_labels(data)\n",
      "    counts = labels_count.values()\n",
      "    filtered_counts = filter(lambda x: x >= 30, counts)\n",
      "    return filtered_counts\n",
      "\n",
      "def ks_2test(data1, data2):\n",
      "    counts1 = prepare_data(data1)\n",
      "    counts2 = prepare_data(data2)\n",
      "    \n",
      "    return ks_2samp(counts1, counts2)\n",
      "\n",
      "def chi2_test(data1, data2):\n",
      "    counts1 = prepare_data(data1)\n",
      "    counts2 = prepare_data(data2)\n",
      "    bin1 = np.histogram(counts1, 5)[0]\n",
      "    bin2 = np.histogram(counts2, 5)[0]\n",
      "    \n",
      "    return chi2_contingency([bin1, bin2])\n",
      "\n",
      "def chi2_test3(data1, data2, data3):\n",
      "    counts1 = prepare_data(data1)\n",
      "    counts2 = prepare_data(data2)\n",
      "    counts3 = prepare_data(data3)\n",
      "    bin1 = np.histogram(counts1, 5)[0]\n",
      "    bin2 = np.histogram(counts2, 5)[0]\n",
      "    bin3 = np.histogram(counts3, 5)[0]\n",
      "    \n",
      "    return chi2_contingency([bin1, bin2, bin3])\n",
      "\n",
      "def ttest(data1, data2, equal_var=False):\n",
      "    counts1 = prepare_data(data1)\n",
      "    counts2 = prepare_data(data2)\n",
      "    \n",
      "    return ttest_ind(counts1, counts2, equal_var=equal_var)\n",
      "\n",
      "def levene_test(data1, data2):\n",
      "    counts1 = prepare_data(data1)\n",
      "    counts2 = prepare_data(data2)\n",
      "    \n",
      "    return levene(counts1, counts2)"
     ],
     "language": "python",
     "metadata": {},
     "outputs": [],
     "prompt_number": 4
    },
    {
     "cell_type": "code",
     "collapsed": false,
     "input": [
      "#print len(fx_data_origin)\n",
      "fx_data = list(fx_data_origin)\n",
      "fx_data = fx_data[:3000]\n",
      "fx_data_devs = count_labels(fx_data)\n",
      "\n",
      "#print len(nb_data_origin)\n",
      "#nb_data_devs = count_labels(nb_data_origin)\n",
      "#print len(nb_data_devs)\n",
      "\n",
      "#print len(mrs_data_origin)\n",
      "#mrs_data_devs = count_labels(mrs_data_origin)\n",
      "#print len(mrs_data_devs)\n",
      "\n",
      "print len(jira_data_origin)\n",
      "jira_data_devs = count_labels(jira_data_origin)\n",
      "print len(jira_data_devs)"
     ],
     "language": "python",
     "metadata": {},
     "outputs": [
      {
       "output_type": "stream",
       "stream": "stdout",
       "text": [
        "2926\n",
        "110\n"
       ]
      }
     ],
     "prompt_number": 11
    },
    {
     "cell_type": "code",
     "collapsed": false,
     "input": [
      "#print len(count_labels(fx_data))\n",
      "#fx_data_30 = filter(lambda x: fx_data_devs[x.label] >= 30, fx_data)\n",
      "#print len(fx_data_30)\n",
      "#print len(count_labels(fx_data_30))\n",
      "\n",
      "#nb_data_30 = filter(lambda x: nb_data_devs[x.label] >= 30, nb_data_origin)\n",
      "#print len(nb_data_30)\n",
      "#print len(count_labels(nb_data_30))\n",
      "\n",
      "#mrs_data_30 = filter(lambda x: mrs_data_devs[x.label] >= 30, mrs_data_origin)\n",
      "#print len(mrs_data_30)\n",
      "#print len(count_labels(mrs_data_30))\n",
      "\n",
      "jira_data_30 = filter(lambda x: jira_data_devs[x.label] >= 30, jira_data_origin)\n",
      "print len(jira_data_30)\n",
      "print len(count_labels(jira_data_30))"
     ],
     "language": "python",
     "metadata": {},
     "outputs": [
      {
       "output_type": "stream",
       "stream": "stdout",
       "text": [
        "2424\n",
        "35\n"
       ]
      }
     ],
     "prompt_number": 7
    },
    {
     "cell_type": "code",
     "collapsed": false,
     "input": [
      "plot_distribution_of_labels(fx_data, title=\"Firefox Data\")"
     ],
     "language": "python",
     "metadata": {},
     "outputs": [],
     "prompt_number": 14
    },
    {
     "cell_type": "code",
     "collapsed": false,
     "input": [
      "plot_distribution_of_labels(nb_data_origin, title=\"Netbeans Data\")"
     ],
     "language": "python",
     "metadata": {},
     "outputs": [],
     "prompt_number": "*"
    },
    {
     "cell_type": "code",
     "collapsed": false,
     "input": [
      "plot_distribution_of_labels(jira_data_origin, title=\"Proprietary Data\")"
     ],
     "language": "python",
     "metadata": {},
     "outputs": [],
     "prompt_number": 8
    },
    {
     "cell_type": "code",
     "collapsed": false,
     "input": [
      "ks_2test(fx_data, nb_data_origin)"
     ],
     "language": "python",
     "metadata": {},
     "outputs": [
      {
       "output_type": "stream",
       "stream": "stdout",
       "text": [
        "[166, 159, 62, 39, 99, 91, 56, 103, 42, 126, 168, 325, 43, 53, 32, 50, 66, 33, 40, 57]\n",
        "[37, 40, 59, 75, 60, 46, 52, 49, 146, 43, 44, 124, 75, 34, 50, 158, 93, 60, 33, 82, 175, 207, 96, 78, 143, 62, 39, 77, 125, 166]\n"
       ]
      },
      {
       "metadata": {},
       "output_type": "pyout",
       "prompt_number": 42,
       "text": [
        "(0.13333333333333336, 0.97424772140744298)"
       ]
      }
     ],
     "prompt_number": 42
    },
    {
     "cell_type": "code",
     "collapsed": false,
     "input": [
      "ks_2test(mrs_data_origin, nb_data_origin)"
     ],
     "language": "python",
     "metadata": {},
     "outputs": [
      {
       "metadata": {},
       "output_type": "pyout",
       "prompt_number": 95,
       "text": [
        "(0.40952380952380957, 0.010543589839507697)"
       ]
      }
     ],
     "prompt_number": 95
    },
    {
     "cell_type": "code",
     "collapsed": false,
     "input": [
      "ks_2test(mrs_data_origin, fx_data)"
     ],
     "language": "python",
     "metadata": {},
     "outputs": [
      {
       "metadata": {},
       "output_type": "pyout",
       "prompt_number": 94,
       "text": [
        "(0.34285714285714292, 0.10028578665896277)"
       ]
      }
     ],
     "prompt_number": 94
    },
    {
     "cell_type": "code",
     "collapsed": false,
     "input": [
      "print chi2_test(fx_data, jira_data_origin)\n",
      "print chi2_test(fx_data, nb_data_origin)\n",
      "print chi2_test(nb_data_origin, jira_data_origin)\n",
      "print chi2_test3(nb_data_origin, jira_data_origin, fx_data)"
     ],
     "language": "python",
     "metadata": {},
     "outputs": [
      {
       "output_type": "stream",
       "stream": "stdout",
       "text": [
        "(1.2795918367346941, 0.86482844232375955, 4, array([[ 12.72727273,   4.        ,   2.18181818,   0.36363636,\n",
        "          0.72727273],\n",
        "       [ 22.27272727,   7.        ,   3.81818182,   0.63636364,\n",
        "          1.27272727]]))\n",
        "(2.5883838383838378, 0.62888224943638149, 4, array([[ 10.8,   4.4,   2.4,   1.2,   1.2],\n",
        "       [ 16.2,   6.6,   3.6,   1.8,   1.8]]))\n",
        "(2.6486006683375112, 0.61823831556988762, 4, array([[ 17.53846154,   6.46153846,   2.76923077,   1.84615385,\n",
        "          1.38461538],\n",
        "       [ 20.46153846,   7.53846154,   3.23076923,   2.15384615,\n",
        "          1.61538462]]))\n",
        "(4.7831613756613756, 0.7804808050113794, 8, array([[ 17.64705882,   6.35294118,   3.17647059,   1.41176471,\n",
        "          1.41176471],\n",
        "       [ 20.58823529,   7.41176471,   3.70588235,   1.64705882,\n",
        "          1.64705882],\n",
        "       [ 11.76470588,   4.23529412,   2.11764706,   0.94117647,\n",
        "          0.94117647]]))\n"
       ]
      }
     ],
     "prompt_number": 12
    },
    {
     "cell_type": "code",
     "collapsed": false,
     "input": [
      "print ttest(fx_data, jira_data_origin, equal_var=True)\n",
      "print ttest(fx_data, nb_data_origin, equal_var=True)\n",
      "print ttest(nb_data_origin, jira_data_origin, equal_var=True)"
     ],
     "language": "python",
     "metadata": {},
     "outputs": [
      {
       "output_type": "stream",
       "stream": "stdout",
       "text": [
        "(array(1.3112609377636586), 0.19542225625011592)\n",
        "(array(0.538890832311961), 0.5924529202062363)\n",
        "(array(1.0317772728006218), 0.30612123273860753)\n"
       ]
      }
     ],
     "prompt_number": 18
    },
    {
     "cell_type": "code",
     "collapsed": false,
     "input": [
      "print levene_test(fx_data, jira_data_origin)\n",
      "print levene_test(fx_data, nb_data_origin)\n",
      "print levene_test(jira_data_origin, nb_data_origin)"
     ],
     "language": "python",
     "metadata": {},
     "outputs": [
      {
       "output_type": "stream",
       "stream": "stdout",
       "text": [
        "(1.2269182405001795, 0.27300891034701202)\n",
        "(0.60693472167286688, 0.43976839530840506)\n",
        "(0.27658458991105361, 0.60079503054930661)\n"
       ]
      }
     ],
     "prompt_number": 17
    },
    {
     "cell_type": "code",
     "collapsed": false,
     "input": [],
     "language": "python",
     "metadata": {},
     "outputs": []
    }
   ],
   "metadata": {}
  }
 ]
}