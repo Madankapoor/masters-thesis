{
 "metadata": {
  "name": ""
 },
 "nbformat": 3,
 "nbformat_minor": 0,
 "worksheets": [
  {
   "cells": [
    {
     "cell_type": "code",
     "collapsed": false,
     "input": [
      "import sys\n",
      "import random\n",
      "import matplotlib.pyplot as plt\n",
      "\n",
      "sys.path.append(\"..\")\n",
      "from triager import parsers"
     ],
     "language": "python",
     "metadata": {},
     "outputs": [],
     "prompt_number": 119
    },
    {
     "cell_type": "code",
     "collapsed": false,
     "input": [
      "fx_parser = parsers.BugzillaParser(\"../data/opensource/mozilla_firefox\")\n",
      "nb_parser = parsers.CSVBugzillaParser(\"../data/opensource/netbeans\")\n",
      "mrs_parser = parsers.MRSParser(\"../data/prop/MRs\", project_match=\"OPW.*\")\n",
      "fx_data_origin = fx_parser.parse()\n",
      "nb_data_origin = nb_parser.parse()\n",
      "mrs_data_origin = mrs_parser.parse()"
     ],
     "language": "python",
     "metadata": {},
     "outputs": [
      {
       "output_type": "stream",
       "stream": "stderr",
       "text": [
        "WARNING:root:Could not parse description from ticket I04953\n"
       ]
      }
     ],
     "prompt_number": 127
    },
    {
     "cell_type": "code",
     "collapsed": false,
     "input": [
      "def count_labels(data):\n",
      "    labels = {}\n",
      "    for d in data:\n",
      "        if d.label in labels:\n",
      "            labels[d.label] += 1\n",
      "        else:\n",
      "            labels[d.label] = 1\n",
      "    return labels\n",
      "\n",
      "def plot_distribution_of_labels(data, title=\"Data\"):\n",
      "    labels_count = count_labels(data)\n",
      "    counts = labels_count.values()\n",
      "    filtered_counts = filter(lambda x: x >= 30, counts)\n",
      "    \n",
      "    f, (ax1, ax2) = plt.subplots(1, 2, sharex=True, figsize=(12, 6), dpi=100)\n",
      "    ax1.hist(filtered_counts)\n",
      "    ax2.hist(filtered_counts, cumulative=True, normed=True)\n",
      "    ax1.set_title(\"Histogram of %s\" % title)\n",
      "    ax2.set_title(\"Distribution of %s\" % title)\n",
      "    f.text(0.1, 0.5, 'Frequency', ha='center', va='center', rotation='vertical')\n",
      "    f.text(0.51, 0.5, 'Probability', ha='center', va='center', rotation='vertical')\n",
      "    f.text(0.5, 0.04, 'Value', ha='center', va='center')\n",
      "    plt.show()"
     ],
     "language": "python",
     "metadata": {},
     "outputs": [],
     "prompt_number": 117
    },
    {
     "cell_type": "code",
     "collapsed": false,
     "input": [
      "print len(fx_data_origin)\n",
      "fx_data = list(fx_data_origin)\n",
      "fx_data = fx_data[:3000]\n",
      "fx_data_devs = count_labels(fx_data)\n",
      "\n",
      "print len(nb_data_origin)\n",
      "nb_data_devs = count_labels(nb_data_origin)\n",
      "print len(nb_data_devs)\n",
      "\n",
      "print len(mrs_data_origin)\n",
      "mrs_data_devs = count_labels(mrs_data_origin)\n",
      "print len(mrs_data_devs)"
     ],
     "language": "python",
     "metadata": {},
     "outputs": [
      {
       "output_type": "stream",
       "stream": "stdout",
       "text": [
        "9141\n",
        "2924\n",
        "92\n",
        "2764\n",
        "142\n"
       ]
      }
     ],
     "prompt_number": 128
    },
    {
     "cell_type": "code",
     "collapsed": false,
     "input": [
      "print len(count_labels(fx_data))\n",
      "fx_data_30 = filter(lambda x: fx_data_devs[x.label] >= 30, fx_data)\n",
      "print len(fx_data_30)\n",
      "print len(count_labels(fx_data_30))\n",
      "\n",
      "nb_data_30 = filter(lambda x: nb_data_devs[x.label] >= 30, nb_data_origin)\n",
      "print len(nb_data_30)\n",
      "print len(count_labels(nb_data_30))\n",
      "\n",
      "mrs_data_30 = filter(lambda x: mrs_data_devs[x.label] >= 30, mrs_data_origin)\n",
      "print len(mrs_data_30)\n",
      "print len(count_labels(mrs_data_30))"
     ],
     "language": "python",
     "metadata": {},
     "outputs": [
      {
       "output_type": "stream",
       "stream": "stdout",
       "text": [
        "343\n",
        "1810\n",
        "20\n",
        "2528\n",
        "30\n",
        "1997\n",
        "29\n"
       ]
      }
     ],
     "prompt_number": 129
    },
    {
     "cell_type": "code",
     "collapsed": false,
     "input": [
      "plot_distribution_of_labels(fx_data, title=\"Firefox Data\")"
     ],
     "language": "python",
     "metadata": {},
     "outputs": [],
     "prompt_number": 118
    },
    {
     "cell_type": "code",
     "collapsed": false,
     "input": [
      "plot_distribution_of_labels(nb_data_origin, title=\"Netbeans Data\")"
     ],
     "language": "python",
     "metadata": {},
     "outputs": [],
     "prompt_number": 126
    },
    {
     "cell_type": "code",
     "collapsed": false,
     "input": [
      "plot_distribution_of_labels(mrs_data_origin, title=\"Proprietary Data\")"
     ],
     "language": "python",
     "metadata": {},
     "outputs": [],
     "prompt_number": 130
    },
    {
     "cell_type": "code",
     "collapsed": false,
     "input": [],
     "language": "python",
     "metadata": {},
     "outputs": []
    }
   ],
   "metadata": {}
  }
 ]
}