{
 "metadata": {
  "name": ""
 },
 "nbformat": 3,
 "nbformat_minor": 0,
 "worksheets": [
  {
   "cells": [
    {
     "cell_type": "code",
     "collapsed": false,
     "input": [
      "import sys\n",
      "import random\n",
      "import matplotlib.pyplot as plt\n",
      "import numpy as np\n",
      "\n",
      "from scipy.stats import ks_2samp\n",
      "from scipy.stats import chisquare, chi2_contingency, ttest_ind, levene\n",
      "\n",
      "sys.path.append(\"..\")\n",
      "from triager import parsers"
     ],
     "language": "python",
     "metadata": {},
     "outputs": [],
     "prompt_number": 132
    },
    {
     "cell_type": "code",
     "collapsed": false,
     "input": [
      "fx_parser = parsers.BugzillaParser(\"../data/opensource/mozilla_firefox\")\n",
      "nb_parser = parsers.CSVBugzillaParser(\"../data/opensource/netbeans\")\n",
      "mrs_parser = parsers.MRSParser(\"../data/prop/MRs\", project_match=\"OPW.*\")\n",
      "fx_data_origin = [doc for doc in fx_parser.parse() if doc.label]\n",
      "nb_data_origin = [doc for doc in nb_parser.parse() if doc.label]\n",
      "mrs_data_origin = [doc for doc in mrs_parser.parse() if doc.label]"
     ],
     "language": "python",
     "metadata": {},
     "outputs": [
      {
       "output_type": "stream",
       "stream": "stderr",
       "text": [
        "WARNING:root:Could not parse description from ticket I04953\n"
       ]
      }
     ],
     "prompt_number": 3
    },
    {
     "cell_type": "code",
     "collapsed": false,
     "input": [
      "def count_labels(data):\n",
      "    labels = {}\n",
      "    for d in data:\n",
      "        if d.label in labels:\n",
      "            labels[d.label] += 1\n",
      "        else:\n",
      "            labels[d.label] = 1\n",
      "    return labels\n",
      "\n",
      "def plot_distribution_of_labels(data, title=\"Data\"):\n",
      "    labels_count = count_labels(data)\n",
      "    counts = labels_count.values()\n",
      "    filtered_counts = filter(lambda x: x >= 30, counts)\n",
      "    \n",
      "    f, (ax1, ax2) = plt.subplots(1, 2, sharex=True, figsize=(12, 6), dpi=100)\n",
      "    ax1.hist(filtered_counts)\n",
      "    ax2.hist(filtered_counts, cumulative=True, normed=True)\n",
      "    ax1.set_title(\"Histogram of %s\" % title)\n",
      "    ax2.set_title(\"Distribution of %s\" % title)\n",
      "    f.text(0.1, 0.5, 'Frequency', ha='center', va='center', rotation='vertical')\n",
      "    f.text(0.51, 0.5, 'Probability', ha='center', va='center', rotation='vertical')\n",
      "    f.text(0.5, 0.04, 'Value', ha='center', va='center')\n",
      "    plt.show()\n",
      "\n",
      "def prepare_data(data):\n",
      "    labels_count = count_labels(data)\n",
      "    counts = labels_count.values()\n",
      "    filtered_counts = filter(lambda x: x >= 30, counts)\n",
      "    return filtered_counts\n",
      "\n",
      "def ks_2test(data1, data2):\n",
      "    counts1 = prepare_data(data1)\n",
      "    counts2 = prepare_data(data2)\n",
      "    \n",
      "    return ks_2samp(counts1, counts2)\n",
      "\n",
      "def chi2_test(data1, data2):\n",
      "    counts1 = prepare_data(data1)\n",
      "    counts2 = prepare_data(data2)\n",
      "    bin1 = np.histogram(counts1, 5)[0]\n",
      "    bin2 = np.histogram(counts2, 5)[0]\n",
      "    \n",
      "    return chi2_contingency([bin1, bin2])\n",
      "\n",
      "def chi2_test3(data1, data2, data3):\n",
      "    counts1 = prepare_data(data1)\n",
      "    counts2 = prepare_data(data2)\n",
      "    counts3 = prepare_data(data3)\n",
      "    bin1 = np.histogram(counts1, 5)[0]\n",
      "    bin2 = np.histogram(counts2, 5)[0]\n",
      "    bin3 = np.histogram(counts3, 5)[0]\n",
      "    \n",
      "    return chi2_contingency([bin1, bin2, bin3])\n",
      "\n",
      "def ttest(data1, data2, equal_var=False):\n",
      "    counts1 = prepare_data(data1)\n",
      "    counts2 = prepare_data(data2)\n",
      "    \n",
      "    return ttest_ind(counts1, counts2, equal_var=equal_var)\n",
      "\n",
      "def levene_test(data1, data2):\n",
      "    counts1 = prepare_data(data1)\n",
      "    counts2 = prepare_data(data2)\n",
      "    \n",
      "    return levene(counts1, counts2)"
     ],
     "language": "python",
     "metadata": {},
     "outputs": [],
     "prompt_number": 135
    },
    {
     "cell_type": "code",
     "collapsed": false,
     "input": [
      "print len(fx_data_origin)\n",
      "fx_data = list(fx_data_origin)\n",
      "fx_data = fx_data[:3000]\n",
      "fx_data_devs = count_labels(fx_data)\n",
      "\n",
      "print len(nb_data_origin)\n",
      "nb_data_devs = count_labels(nb_data_origin)\n",
      "print len(nb_data_devs)\n",
      "\n",
      "print len(mrs_data_origin)\n",
      "mrs_data_devs = count_labels(mrs_data_origin)\n",
      "print len(mrs_data_devs)"
     ],
     "language": "python",
     "metadata": {},
     "outputs": [
      {
       "output_type": "stream",
       "stream": "stdout",
       "text": [
        "9141\n",
        "2924\n",
        "92\n",
        "2243\n",
        "141\n"
       ]
      }
     ],
     "prompt_number": 5
    },
    {
     "cell_type": "code",
     "collapsed": false,
     "input": [
      "print len(count_labels(fx_data))\n",
      "fx_data_30 = filter(lambda x: fx_data_devs[x.label] >= 30, fx_data)\n",
      "print len(fx_data_30)\n",
      "print len(count_labels(fx_data_30))\n",
      "\n",
      "nb_data_30 = filter(lambda x: nb_data_devs[x.label] >= 30, nb_data_origin)\n",
      "print len(nb_data_30)\n",
      "print len(count_labels(nb_data_30))\n",
      "\n",
      "mrs_data_30 = filter(lambda x: mrs_data_devs[x.label] >= 30, mrs_data_origin)\n",
      "print len(mrs_data_30)\n",
      "print len(count_labels(mrs_data_30))"
     ],
     "language": "python",
     "metadata": {},
     "outputs": [
      {
       "output_type": "stream",
       "stream": "stdout",
       "text": [
        "343\n",
        "1810\n",
        "20\n",
        "2528\n",
        "30\n",
        "1476\n",
        "28\n"
       ]
      }
     ],
     "prompt_number": 7
    },
    {
     "cell_type": "code",
     "collapsed": false,
     "input": [
      "plot_distribution_of_labels(fx_data, title=\"Firefox Data\")"
     ],
     "language": "python",
     "metadata": {},
     "outputs": [],
     "prompt_number": 118
    },
    {
     "cell_type": "code",
     "collapsed": false,
     "input": [
      "plot_distribution_of_labels(nb_data_origin, title=\"Netbeans Data\")"
     ],
     "language": "python",
     "metadata": {},
     "outputs": [],
     "prompt_number": 126
    },
    {
     "cell_type": "code",
     "collapsed": false,
     "input": [
      "plot_distribution_of_labels(mrs_data_origin, title=\"Proprietary Data\")"
     ],
     "language": "python",
     "metadata": {},
     "outputs": [],
     "prompt_number": 8
    },
    {
     "cell_type": "code",
     "collapsed": false,
     "input": [
      "ks_2test(fx_data, nb_data_origin)"
     ],
     "language": "python",
     "metadata": {},
     "outputs": [
      {
       "output_type": "stream",
       "stream": "stdout",
       "text": [
        "[166, 159, 62, 39, 99, 91, 56, 103, 42, 126, 168, 325, 43, 53, 32, 50, 66, 33, 40, 57]\n",
        "[37, 40, 59, 75, 60, 46, 52, 49, 146, 43, 44, 124, 75, 34, 50, 158, 93, 60, 33, 82, 175, 207, 96, 78, 143, 62, 39, 77, 125, 166]\n"
       ]
      },
      {
       "metadata": {},
       "output_type": "pyout",
       "prompt_number": 42,
       "text": [
        "(0.13333333333333336, 0.97424772140744298)"
       ]
      }
     ],
     "prompt_number": 42
    },
    {
     "cell_type": "code",
     "collapsed": false,
     "input": [
      "ks_2test(mrs_data_origin, nb_data_origin)"
     ],
     "language": "python",
     "metadata": {},
     "outputs": [
      {
       "metadata": {},
       "output_type": "pyout",
       "prompt_number": 95,
       "text": [
        "(0.40952380952380957, 0.010543589839507697)"
       ]
      }
     ],
     "prompt_number": 95
    },
    {
     "cell_type": "code",
     "collapsed": false,
     "input": [
      "ks_2test(mrs_data_origin, fx_data)"
     ],
     "language": "python",
     "metadata": {},
     "outputs": [
      {
       "metadata": {},
       "output_type": "pyout",
       "prompt_number": 94,
       "text": [
        "(0.34285714285714292, 0.10028578665896277)"
       ]
      }
     ],
     "prompt_number": 94
    },
    {
     "cell_type": "code",
     "collapsed": false,
     "input": [
      "print chi2_test(fx_data, mrs_data_origin)\n",
      "print chi2_test(fx_data, nb_data_origin)\n",
      "print chi2_test(nb_data_origin, mrs_data_origin)\n",
      "print chi2_test3(nb_data_origin, mrs_data_origin, fx_data)"
     ],
     "language": "python",
     "metadata": {},
     "outputs": [
      {
       "output_type": "stream",
       "stream": "stdout",
       "text": [
        "(1.554285714285714, 0.81698387685608642, 4, array([[ 12.5       ,   3.75      ,   2.08333333,   0.41666667,   1.25      ],\n",
        "       [ 17.5       ,   5.25      ,   2.91666667,   0.58333333,   1.75      ]]))\n",
        "(3.8383838383838391, 0.42831983638008564, 4, array([[ 10.8,   4.4,   2. ,   1.6,   1.2],\n",
        "       [ 16.2,   6.6,   3. ,   2.4,   1.8]]))\n",
        "(2.3398773448773449, 0.67351853248103477, 4, array([[ 17.06896552,   6.20689655,   2.06896552,   2.5862069 ,\n",
        "          2.06896552],\n",
        "       [ 15.93103448,   5.79310345,   1.93103448,   2.4137931 ,\n",
        "          1.93103448]]))\n",
        "(5.8098724489795917, 0.66851928813065742, 8, array([[ 17.30769231,   6.15384615,   2.69230769,   1.92307692,\n",
        "          1.92307692],\n",
        "       [ 16.15384615,   5.74358974,   2.51282051,   1.79487179,\n",
        "          1.79487179],\n",
        "       [ 11.53846154,   4.1025641 ,   1.79487179,   1.28205128,\n",
        "          1.28205128]]))\n"
       ]
      }
     ],
     "prompt_number": 123
    },
    {
     "cell_type": "code",
     "collapsed": false,
     "input": [
      "print ttest(fx_data, mrs_data_origin, equal_var=False)\n",
      "print ttest(fx_data, nb_data_origin, equal_var=True)\n",
      "print ttest(nb_data_origin, mrs_data_origin, equal_var=False)"
     ],
     "language": "python",
     "metadata": {},
     "outputs": [
      {
       "output_type": "stream",
       "stream": "stdout",
       "text": [
        "(array(2.54063516521352), 0.014504095848715183)\n",
        "(array(0.36880321922527187), 0.71389618747495209)\n",
        "(array(2.980866552182908), 0.004247368474020294)\n"
       ]
      }
     ],
     "prompt_number": 139
    },
    {
     "cell_type": "code",
     "collapsed": false,
     "input": [
      "print levene_test(fx_data, mrs_data_origin)\n",
      "print levene_test(fx_data, nb_data_origin)\n",
      "print levene_test(mrs_data_origin, nb_data_origin)"
     ],
     "language": "python",
     "metadata": {},
     "outputs": [
      {
       "output_type": "stream",
       "stream": "stdout",
       "text": [
        "(4.5983892033086633, 0.037318776029876578)\n",
        "(0.42688710507734123, 0.51663805400652663)\n",
        "(5.5778982241572814, 0.021691181968304548)\n"
       ]
      }
     ],
     "prompt_number": 138
    },
    {
     "cell_type": "code",
     "collapsed": false,
     "input": [],
     "language": "python",
     "metadata": {},
     "outputs": []
    }
   ],
   "metadata": {}
  }
 ]
}