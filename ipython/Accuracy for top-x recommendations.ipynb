{
 "metadata": {
  "name": ""
 },
 "nbformat": 3,
 "nbformat_minor": 0,
 "worksheets": [
  {
   "cells": [
    {
     "cell_type": "code",
     "collapsed": false,
     "input": [
      "# SVM with TFIDF+StopWords, Gaussian Kernel, C=240, #data=3000/2100\n",
      "data_svm_firefox = [(1, 0.5930), (2, 0.7219), (3, 0.7974), (4, 0.8619), (5, 0.8969), (6, 0.9208), (7, 0.9355), (8, 0.9484), (9, 0.9613), (10, 0.9705)]\n",
      "data_svm_prop = [(1, 0.3077), (2, 0.4796), (3, 0.5430), (4, 0.5928), (5, 0.6222), (6, 0.6629), (7, 0.6968), (8, 0.7240), (9, 0.7692), (10, 0.7964)]\n",
      "data_svm_prop2 = [(1, 0.5378), (2, 0.6561), (3, 0.7208), (4, 0.7895), (5, 0.8143), (6, 0.8322), (7, 0.8446), (8, 0.8611), (9, 0.8762), (10, 0.8982)]\n",
      "\n",
      "data_nb_firefox = [(1, 0.3593), (2, 0.4167), (3, 0.4389), (4, 0.4704), (5, 0.4963), (6, 0.5222), (7, 0.5463), (8, 0.6056), (9, 0.6278), (10, 0.6574)]\n",
      "data_nb_prop2 = [(1, 0.4017), (2, 0.4223), (3, 0.4305), (4, 0.4402), (5, 0.4801), (6, 0.4924), (7, 0.5213), (8, 0.5392), (9, 0.5502), (10, 0.5612)]\n",
      "\n",
      "data_cart_firefox = [(1, 0.4519), (2, 0.4815), (3, 0.5426), (4, 0.5722), (5, 0.6000), (6, 0.6241), (7, 0.6352), (8, 0.6833), (9, 0.7056), (10, 0.7278)]\n",
      "data_cart_prop2 = [(1, 0.4182), (2, 0.4374), (3, 0.4553), (4, 0.4649), (5, 0.4842), (6, 0.5034), (7, 0.5227), (8, 0.5365), (9, 0.5516), (10, 0.5640)]\n",
      "\n",
      "\n"
     ],
     "language": "python",
     "metadata": {},
     "outputs": [],
     "prompt_number": 1
    },
    {
     "cell_type": "code",
     "collapsed": false,
     "input": [
      "import matplotlib.pyplot as plt\n",
      "import matplotlib\n",
      "plt.style.use('fivethirtyeight')\n",
      "matplotlib.rcParams.update({'font.size': 9})\n",
      "fig = plt.figure(num=None, figsize=(12, 6), dpi=200)\n",
      "\n",
      "plt.plot([x for x, _ in data_cart_firefox], [y for _, y in data_cart_firefox], label=\"Firefox\", color='#3d601f')\n",
      "plt.plot([x for x, _ in data_cart_prop2], [y for _, y in data_cart_prop2], label=\"Proprietary\", color='#7da05f')\n",
      "plt.title(\"Comparison of accuracy of top-x recommendations for CART model\")\n",
      "plt.ylabel(\"Accuracy\")\n",
      "plt.xlabel(\"Number of recommendations\")\n",
      "plt.legend(loc=2)\n",
      "plt.ylim(0,1)\n",
      "plt.show()"
     ],
     "language": "python",
     "metadata": {},
     "outputs": [],
     "prompt_number": 3
    },
    {
     "cell_type": "code",
     "collapsed": false,
     "input": [
      "plt.style.available"
     ],
     "language": "python",
     "metadata": {},
     "outputs": [
      {
       "metadata": {},
       "output_type": "pyout",
       "prompt_number": 4,
       "text": [
        "[u'dark_background', u'bmh', u'grayscale', u'ggplot', u'fivethirtyeight']"
       ]
      }
     ],
     "prompt_number": 4
    },
    {
     "cell_type": "code",
     "collapsed": false,
     "input": [],
     "language": "python",
     "metadata": {},
     "outputs": []
    }
   ],
   "metadata": {}
  }
 ]
}