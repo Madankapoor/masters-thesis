{
 "metadata": {
  "name": ""
 },
 "nbformat": 3,
 "nbformat_minor": 0,
 "worksheets": [
  {
   "cells": [
    {
     "cell_type": "code",
     "collapsed": false,
     "input": [
      "# SVM with TFIDF+StopWords, Gaussian Kernel, C=240, #data=3000/2100\n",
      "data_svm_firefox = [(1, 0.5930), (2, 0.7219), (3, 0.7974), (4, 0.8619), (5, 0.8969), (6, 0.9208), (7, 0.9355), (8, 0.9484), (9, 0.9613), (10, 0.9705)]\n",
      "data_svm_prop = [(1, 0.3077), (2, 0.4796), (3, 0.5430), (4, 0.5928), (5, 0.6222), (6, 0.6629), (7, 0.6968), (8, 0.7240), (9, 0.7692), (10, 0.7964)]"
     ],
     "language": "python",
     "metadata": {},
     "outputs": [],
     "prompt_number": 1
    },
    {
     "cell_type": "code",
     "collapsed": false,
     "input": [
      "import matplotlib.pyplot as plt\n",
      "import matplotlib\n",
      "plt.style.use('fivethirtyeight')\n",
      "matplotlib.rcParams.update({'font.size': 9})\n",
      "fig = plt.figure(num=None, figsize=(12, 6), dpi=200)\n",
      "\n",
      "plt.plot([x for x, _ in data_svm_firefox], [y for _, y in data_svm_firefox], label=\"Firefox\", color='#3d601f')\n",
      "plt.plot([x for x, _ in data_svm_prop], [y for _, y in data_svm_prop], label=\"Proprietary\", color='#7da05f')\n",
      "plt.title(\"Comparison of accuracy of top-x recommendations for SVM model\")\n",
      "plt.ylabel(\"Accuracy\")\n",
      "plt.xlabel(\"Number of recommendations\")\n",
      "plt.legend(loc=2)\n",
      "plt.ylim(0,1)\n",
      "plt.show()"
     ],
     "language": "python",
     "metadata": {},
     "outputs": [],
     "prompt_number": 2
    },
    {
     "cell_type": "code",
     "collapsed": false,
     "input": [
      "plt.style.available"
     ],
     "language": "python",
     "metadata": {},
     "outputs": [
      {
       "metadata": {},
       "output_type": "pyout",
       "prompt_number": 4,
       "text": [
        "[u'dark_background', u'bmh', u'grayscale', u'ggplot', u'fivethirtyeight']"
       ]
      }
     ],
     "prompt_number": 4
    },
    {
     "cell_type": "code",
     "collapsed": false,
     "input": [],
     "language": "python",
     "metadata": {},
     "outputs": []
    }
   ],
   "metadata": {}
  }
 ]
}