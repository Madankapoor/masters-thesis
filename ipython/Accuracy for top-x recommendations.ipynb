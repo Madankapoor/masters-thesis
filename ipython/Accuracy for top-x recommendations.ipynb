{
 "metadata": {
  "name": ""
 },
 "nbformat": 3,
 "nbformat_minor": 0,
 "worksheets": [
  {
   "cells": [
    {
     "cell_type": "code",
     "collapsed": false,
     "input": [
      "# SVM with TFIDF+StopWords, Gaussian Kernel, C=240, #data=3000/2100\n",
      "data_svm_firefox = [(1, 0.5930), (2, 0.7219), (3, 0.7974), (4, 0.8619), (5, 0.8969), (6, 0.9208), (7, 0.9355), (8, 0.9484), (9, 0.9613), (10, 0.9705)]\n",
      "data_svm_prop = [(1, 0.3077), (2, 0.4796), (3, 0.5430), (4, 0.5928), (5, 0.6222), (6, 0.6629), (7, 0.6968), (8, 0.7240), (9, 0.7692), (10, 0.7964)]"
     ],
     "language": "python",
     "metadata": {},
     "outputs": [],
     "prompt_number": 2
    },
    {
     "cell_type": "code",
     "collapsed": false,
     "input": [
      "import matplotlib.pyplot as plt\n",
      "plt.plot([x for x, _ in data_svm_firefox], [y for _, y in data_svm_firefox], label=\"Firefox\")\n",
      "plt.plot([x for x, _ in data_svm_prop], [y for _, y in data_svm_prop], label=\"Proprietary\")\n",
      "plt.title(\"Comparison of accuracy of top-x recommendations for SVM model\")\n",
      "plt.ylabel(\"Accuracy\")\n",
      "plt.xlabel(\"Top-x recommendations\")\n",
      "plt.legend(loc=2)\n",
      "plt.ylim(0,1)\n",
      "plt.show()"
     ],
     "language": "python",
     "metadata": {},
     "outputs": [],
     "prompt_number": 8
    },
    {
     "cell_type": "code",
     "collapsed": false,
     "input": [],
     "language": "python",
     "metadata": {},
     "outputs": []
    }
   ],
   "metadata": {}
  }
 ]
}