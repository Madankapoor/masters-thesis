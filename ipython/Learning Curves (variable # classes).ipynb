{
 "metadata": {
  "name": ""
 },
 "nbformat": 3,
 "nbformat_minor": 0,
 "worksheets": [
  {
   "cells": [
    {
     "cell_type": "code",
     "collapsed": false,
     "input": [
      "# SVM with TFIDF+StopWords, Gaussian Kernel, C=240, 500/10, 1000/20, 1500/30...\n",
      "data_svm = [(205, 12, 0.55, 0.41, 0.36), (430, 15, 0.53, 0.45, 0.39), (552, 12, 0.58, 0.5, 0.46), (845, 17, 0.54, 0.48, 0.42), (1267, 20, 0.55, 0.49, 0.42), (1832, 28, 0.54, 0.46, 0.43), (2438, 35, 0.49, 0.45, 0.38)]\n",
      "# NB with StopWords\n",
      "data_nb =  [(205, 12, 0.48, 0.38, 0.37), (430, 15, 0.39, 0.36, 0.26), (552, 12, 0.42, 0.37, 0.3), (845, 17, 0.36, 0.33, 0.25), (1267, 20, 0.39, 0.36, 0.26), (1832, 28, 0.33, 0.33, 0.23), (2438, 35, 0.28, 0.29, 0.19)]\n",
      "# Decision Tree Cart model with StopWords\n",
      "data_dt =  [(205, 12, 0.48, 0.32, 0.33), (430, 15, 0.42, 0.37, 0.32), (552, 12, 0.43, 0.4, 0.32), (845, 17, 0.43, 0.39, 0.33), (1267, 20, 0.44, 0.35, 0.31), (1832, 28, 0.42, 0.34, 0.31), (2438, 35, 0.36, 0.33, 0.29)]"
     ],
     "language": "python",
     "metadata": {},
     "outputs": [],
     "prompt_number": 14
    },
    {
     "cell_type": "code",
     "collapsed": false,
     "input": [
      "import matplotlib.pyplot as plt"
     ],
     "language": "python",
     "metadata": {},
     "outputs": [],
     "prompt_number": 15
    },
    {
     "cell_type": "code",
     "collapsed": false,
     "input": [
      "# Accuracy\n",
      "plt.plot([x for x, _, _, _, _ in data_svm], [y for _, _, y, _, _ in data_svm], label=\"SVM\")\n",
      "plt.plot([x for x, _, _, _, _ in data_nb], [y for _, _, y, _, _ in data_nb], label=\"Naive Bayes\")\n",
      "plt.plot([x for x, _, _, _, _ in data_dt], [y for _, _, y, _, _ in data_dt], label=\"CART\")\n",
      "plt.title(\"Comparison of accuracy of SVM, Naive Bayes and CART on different sizes of dataset\")\n",
      "plt.ylabel(\"Accuracy\")\n",
      "plt.xlabel(\"Number of examples in the training dataset\")\n",
      "plt.legend()\n",
      "plt.show()"
     ],
     "language": "python",
     "metadata": {},
     "outputs": [],
     "prompt_number": 16
    },
    {
     "cell_type": "code",
     "collapsed": false,
     "input": [
      "# Precision\n",
      "plt.plot([x for x, _, _, _, _ in data_svm], [y for _, _, _, y, _ in data_svm], label=\"SVM\")\n",
      "plt.plot([x for x, _, _, _, _ in data_nb], [y for _, _, _, y, _ in data_nb], label=\"Naive Bayes\")\n",
      "plt.plot([x for x, _, _, _, _ in data_dt], [y for _, _, _, y, _ in data_dt], label=\"CART\")\n",
      "plt.title(\"Comparison of precision of SVM, Naive Bayes and CART on different sizes of dataset\")\n",
      "plt.ylabel(\"Precision\")\n",
      "plt.xlabel(\"Number of examples in the training dataset\")\n",
      "plt.legend()\n",
      "plt.show()"
     ],
     "language": "python",
     "metadata": {},
     "outputs": [],
     "prompt_number": 17
    },
    {
     "cell_type": "code",
     "collapsed": false,
     "input": [
      "# Recall\n",
      "plt.plot([x for x, _, _, _, _ in data_svm], [y for _, _, _, _, y in data_svm], label=\"SVM\")\n",
      "plt.plot([x for x, _, _, _, _ in data_nb], [y for _, _, _, _, y in data_nb], label=\"Naive Bayes\")\n",
      "plt.plot([x for x, _, _, _, _ in data_dt], [y for _, _, _, _, y in data_dt], label=\"CART\")\n",
      "plt.title(\"Comparison of recall of SVM, Naive Bayes and CART on different sizes of dataset\")\n",
      "plt.ylabel(\"Recall\")\n",
      "plt.xlabel(\"Number of examples in the training dataset\")\n",
      "plt.legend()\n",
      "plt.show()"
     ],
     "language": "python",
     "metadata": {},
     "outputs": [],
     "prompt_number": 18
    },
    {
     "cell_type": "code",
     "collapsed": false,
     "input": [],
     "language": "python",
     "metadata": {},
     "outputs": []
    }
   ],
   "metadata": {}
  }
 ]
}