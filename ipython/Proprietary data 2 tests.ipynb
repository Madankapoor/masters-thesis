{
 "metadata": {
  "name": ""
 },
 "nbformat": 3,
 "nbformat_minor": 0,
 "worksheets": [
  {
   "cells": [
    {
     "cell_type": "code",
     "collapsed": false,
     "input": [
      "import simplejson\n",
      "import numpy as np\n",
      "import random\n",
      "\n",
      "from classifier import models, kernels, selectors, tests, utils, document\n",
      "from triager.parsers import JiraJsonParser"
     ],
     "language": "python",
     "metadata": {},
     "outputs": [],
     "prompt_number": 1
    },
    {
     "cell_type": "code",
     "collapsed": false,
     "input": [
      "parser = JiraJsonParser(folder=\"/Users/vaclavdedik/Projects/Master's Thesis/data/prop/\", project_key=\"DPS\")\n",
      "data = parser.parse()"
     ],
     "language": "python",
     "metadata": {},
     "outputs": [],
     "prompt_number": 33
    },
    {
     "cell_type": "code",
     "collapsed": false,
     "input": [
      "print len(data)\n",
      "print data[2000]._created\n",
      "print data[-1]._created"
     ],
     "language": "python",
     "metadata": {},
     "outputs": [
      {
       "output_type": "stream",
       "stream": "stdout",
       "text": [
        "2926\n",
        "2013-07-11T17:51:21.000+0300\n",
        "2012-11-23T10:23:24.000+0200\n"
       ]
      }
     ],
     "prompt_number": 3
    },
    {
     "cell_type": "code",
     "collapsed": false,
     "input": [
      "# Shuffle documents\n",
      "documents = list(data)\n",
      "random.seed(4) # use 3 for MRS\n",
      "random.shuffle(documents)\n",
      "random.seed()\n",
      "# Filter unlabeled documents and documents that are not labeled with\n",
      "# a class that occurs at lest `min_class_occur`\n",
      "documents = [doc for doc in documents if doc.label]\n",
      "print \"Filtering unlabeled documents...\"\n",
      "min_class_occur = 30\n",
      "documents = utils.filter_docs(documents, min_class_occur=min_class_occur)\n",
      "print \"Filtering documents labeled by class that occurs less than \" \\\n",
      "    + \"%s times.\" % min_class_occur\n",
      "# Split between train and cv data\n",
      "n = len(documents)\n",
      "split_pct = 7/10.0\n",
      "split_x = int(np.ceil(n*split_pct))\n",
      "docs_train = documents[:split_x]\n",
      "docs_cv = documents[split_x:]\n",
      "# Create model\n",
      "selector = selectors.TFIDFDecorator(selectors.StopWordsDecorator(\n",
      "    selectors.BasicSelector()))\n",
      "kernel = kernels.GaussianKernel()\n",
      "model = models.SVMModel(feature_selector=selector, kernel=kernel, C=240)\n",
      "print \"Created model: %s.\" % model\n",
      "# Train model\n",
      "print \"Training model on %s instances...\" % len(docs_train)\n",
      "model.train(docs_train)\n",
      "print \"Number of classes is: %s\" % len(model.feature_selector.labels)"
     ],
     "language": "python",
     "metadata": {},
     "outputs": [
      {
       "output_type": "stream",
       "stream": "stdout",
       "text": [
        "Filtering unlabeled documents...\n",
        "Filtering documents labeled by class that occurs less than 30 times.\n",
        "Created model: SVMModel(feature_selector=TFIDFDecorator()->StopWordsDecorator(language='english')->BasicSelector(), kernel=GaussianKernel(gamma=0.0), C=240).\n",
        "Training model on 1712 instances...\n",
        "Number of classes is: 35"
       ]
      },
      {
       "ename": "ValueError",
       "evalue": "Input contains NaN, infinity or a value too large for dtype('float64').",
       "output_type": "pyerr",
       "traceback": [
        "\u001b[0;31m---------------------------------------------------------------------------\u001b[0m\n\u001b[0;31mValueError\u001b[0m                                Traceback (most recent call last)",
        "\u001b[0;32m<ipython-input-10-760cee78f94d>\u001b[0m in \u001b[0;36m<module>\u001b[0;34m()\u001b[0m\n\u001b[1;32m     29\u001b[0m \u001b[0;31m# Test model (accuracy)\u001b[0m\u001b[0;34m\u001b[0m\u001b[0;34m\u001b[0m\u001b[0m\n\u001b[1;32m     30\u001b[0m \u001b[0;32mprint\u001b[0m \u001b[0;34m\"Computing accuracy for CV set (size=%s)...\"\u001b[0m \u001b[0;34m%\u001b[0m \u001b[0mlen\u001b[0m\u001b[0;34m(\u001b[0m\u001b[0mdocs_cv\u001b[0m\u001b[0;34m)\u001b[0m\u001b[0;34m\u001b[0m\u001b[0m\n\u001b[0;32m---> 31\u001b[0;31m \u001b[0maccuracy_cv\u001b[0m \u001b[0;34m=\u001b[0m \u001b[0mtests\u001b[0m\u001b[0;34m.\u001b[0m\u001b[0maccuracy\u001b[0m\u001b[0;34m(\u001b[0m\u001b[0mmodel\u001b[0m\u001b[0;34m,\u001b[0m \u001b[0mdocs_cv\u001b[0m\u001b[0;34m)\u001b[0m\u001b[0;34m\u001b[0m\u001b[0m\n\u001b[0m\u001b[1;32m     32\u001b[0m \u001b[0;32mprint\u001b[0m \u001b[0;34m\"Accuracy of CV set is: '%.4f'.\"\u001b[0m \u001b[0;34m%\u001b[0m \u001b[0maccuracy_cv\u001b[0m\u001b[0;34m\u001b[0m\u001b[0m\n\u001b[1;32m     33\u001b[0m \u001b[0;31m# Test model (precision and recall)\u001b[0m\u001b[0;34m\u001b[0m\u001b[0;34m\u001b[0m\u001b[0m\n",
        "\u001b[0;32m/Users/vaclavdedik/Projects/Master's Thesis/classifier/classifier/tests.pyc\u001b[0m in \u001b[0;36maccuracy\u001b[0;34m(model, documents_cv, n)\u001b[0m\n\u001b[1;32m     11\u001b[0m     \u001b[0mn_cv\u001b[0m \u001b[0;34m=\u001b[0m \u001b[0mlen\u001b[0m\u001b[0;34m(\u001b[0m\u001b[0mdocuments_cv\u001b[0m\u001b[0;34m)\u001b[0m\u001b[0;34m\u001b[0m\u001b[0m\n\u001b[1;32m     12\u001b[0m     tpn = sum([1 for i in range(n_cv)\n\u001b[0;32m---> 13\u001b[0;31m               if documents_cv[i].label in model.predict(documents_cv[i], n=n)])\n\u001b[0m\u001b[1;32m     14\u001b[0m \u001b[0;34m\u001b[0m\u001b[0m\n\u001b[1;32m     15\u001b[0m     \u001b[0;32mreturn\u001b[0m \u001b[0mtpn\u001b[0m\u001b[0;34m/\u001b[0m\u001b[0mfloat\u001b[0m\u001b[0;34m(\u001b[0m\u001b[0mn_cv\u001b[0m\u001b[0;34m)\u001b[0m\u001b[0;34m\u001b[0m\u001b[0m\n",
        "\u001b[0;32m/Users/vaclavdedik/Projects/Master's Thesis/classifier/classifier/models.pyc\u001b[0m in \u001b[0;36mpredict\u001b[0;34m(self, document, n)\u001b[0m\n\u001b[1;32m    120\u001b[0m     \u001b[0;32mdef\u001b[0m \u001b[0mpredict\u001b[0m\u001b[0;34m(\u001b[0m\u001b[0mself\u001b[0m\u001b[0;34m,\u001b[0m \u001b[0mdocument\u001b[0m\u001b[0;34m,\u001b[0m \u001b[0mn\u001b[0m\u001b[0;34m=\u001b[0m\u001b[0;36m1\u001b[0m\u001b[0;34m)\u001b[0m\u001b[0;34m:\u001b[0m\u001b[0;34m\u001b[0m\u001b[0m\n\u001b[1;32m    121\u001b[0m         \u001b[0mx\u001b[0m \u001b[0;34m=\u001b[0m \u001b[0mself\u001b[0m\u001b[0;34m.\u001b[0m\u001b[0mfeature_selector\u001b[0m\u001b[0;34m.\u001b[0m\u001b[0mget_x\u001b[0m\u001b[0;34m(\u001b[0m\u001b[0mdocument\u001b[0m\u001b[0;34m)\u001b[0m\u001b[0;34m\u001b[0m\u001b[0m\n\u001b[0;32m--> 122\u001b[0;31m         \u001b[0mprobs\u001b[0m \u001b[0;34m=\u001b[0m \u001b[0mself\u001b[0m\u001b[0;34m.\u001b[0m\u001b[0msvm\u001b[0m\u001b[0;34m.\u001b[0m\u001b[0mpredict_proba\u001b[0m\u001b[0;34m(\u001b[0m\u001b[0;34m[\u001b[0m\u001b[0mx\u001b[0m\u001b[0;34m]\u001b[0m\u001b[0;34m)\u001b[0m\u001b[0;34m[\u001b[0m\u001b[0;36m0\u001b[0m\u001b[0;34m]\u001b[0m\u001b[0;34m\u001b[0m\u001b[0m\n\u001b[0m\u001b[1;32m    123\u001b[0m         \u001b[0mY\u001b[0m \u001b[0;34m=\u001b[0m \u001b[0mprobs\u001b[0m\u001b[0;34m.\u001b[0m\u001b[0margsort\u001b[0m\u001b[0;34m(\u001b[0m\u001b[0;34m)\u001b[0m\u001b[0;34m[\u001b[0m\u001b[0;34m:\u001b[0m\u001b[0;34m:\u001b[0m\u001b[0;34m-\u001b[0m\u001b[0;36m1\u001b[0m\u001b[0;34m]\u001b[0m\u001b[0;34m\u001b[0m\u001b[0m\n\u001b[1;32m    124\u001b[0m         \u001b[0mlabels\u001b[0m \u001b[0;34m=\u001b[0m \u001b[0mmap\u001b[0m\u001b[0;34m(\u001b[0m\u001b[0mself\u001b[0m\u001b[0;34m.\u001b[0m\u001b[0mfeature_selector\u001b[0m\u001b[0;34m.\u001b[0m\u001b[0mget_label\u001b[0m\u001b[0;34m,\u001b[0m \u001b[0mY\u001b[0m\u001b[0;34m)\u001b[0m\u001b[0;34m\u001b[0m\u001b[0m\n",
        "\u001b[0;32m/usr/local/lib/python2.7/site-packages/sklearn/svm/base.pyc\u001b[0m in \u001b[0;36m_predict_proba\u001b[0;34m(self, X)\u001b[0m\n\u001b[1;32m    544\u001b[0m \u001b[0;34m\u001b[0m\u001b[0m\n\u001b[1;32m    545\u001b[0m     \u001b[0;32mdef\u001b[0m \u001b[0m_predict_proba\u001b[0m\u001b[0;34m(\u001b[0m\u001b[0mself\u001b[0m\u001b[0;34m,\u001b[0m \u001b[0mX\u001b[0m\u001b[0;34m)\u001b[0m\u001b[0;34m:\u001b[0m\u001b[0;34m\u001b[0m\u001b[0m\n\u001b[0;32m--> 546\u001b[0;31m         \u001b[0mX\u001b[0m \u001b[0;34m=\u001b[0m \u001b[0mself\u001b[0m\u001b[0;34m.\u001b[0m\u001b[0m_validate_for_predict\u001b[0m\u001b[0;34m(\u001b[0m\u001b[0mX\u001b[0m\u001b[0;34m)\u001b[0m\u001b[0;34m\u001b[0m\u001b[0m\n\u001b[0m\u001b[1;32m    547\u001b[0m         pred_proba = (self._sparse_predict_proba\n\u001b[1;32m    548\u001b[0m                       if self._sparse else self._dense_predict_proba)\n",
        "\u001b[0;32m/usr/local/lib/python2.7/site-packages/sklearn/svm/base.pyc\u001b[0m in \u001b[0;36m_validate_for_predict\u001b[0;34m(self, X)\u001b[0m\n\u001b[1;32m    421\u001b[0m         \u001b[0mcheck_is_fitted\u001b[0m\u001b[0;34m(\u001b[0m\u001b[0mself\u001b[0m\u001b[0;34m,\u001b[0m \u001b[0;34m'support_'\u001b[0m\u001b[0;34m)\u001b[0m\u001b[0;34m\u001b[0m\u001b[0m\n\u001b[1;32m    422\u001b[0m \u001b[0;34m\u001b[0m\u001b[0m\n\u001b[0;32m--> 423\u001b[0;31m         \u001b[0mX\u001b[0m \u001b[0;34m=\u001b[0m \u001b[0mcheck_array\u001b[0m\u001b[0;34m(\u001b[0m\u001b[0mX\u001b[0m\u001b[0;34m,\u001b[0m \u001b[0maccept_sparse\u001b[0m\u001b[0;34m=\u001b[0m\u001b[0;34m'csr'\u001b[0m\u001b[0;34m,\u001b[0m \u001b[0mdtype\u001b[0m\u001b[0;34m=\u001b[0m\u001b[0mnp\u001b[0m\u001b[0;34m.\u001b[0m\u001b[0mfloat64\u001b[0m\u001b[0;34m,\u001b[0m \u001b[0morder\u001b[0m\u001b[0;34m=\u001b[0m\u001b[0;34m\"C\"\u001b[0m\u001b[0;34m)\u001b[0m\u001b[0;34m\u001b[0m\u001b[0m\n\u001b[0m\u001b[1;32m    424\u001b[0m         \u001b[0;32mif\u001b[0m \u001b[0mself\u001b[0m\u001b[0;34m.\u001b[0m\u001b[0m_sparse\u001b[0m \u001b[0;32mand\u001b[0m \u001b[0;32mnot\u001b[0m \u001b[0msp\u001b[0m\u001b[0;34m.\u001b[0m\u001b[0misspmatrix\u001b[0m\u001b[0;34m(\u001b[0m\u001b[0mX\u001b[0m\u001b[0;34m)\u001b[0m\u001b[0;34m:\u001b[0m\u001b[0;34m\u001b[0m\u001b[0m\n\u001b[1;32m    425\u001b[0m             \u001b[0mX\u001b[0m \u001b[0;34m=\u001b[0m \u001b[0msp\u001b[0m\u001b[0;34m.\u001b[0m\u001b[0mcsr_matrix\u001b[0m\u001b[0;34m(\u001b[0m\u001b[0mX\u001b[0m\u001b[0;34m)\u001b[0m\u001b[0;34m\u001b[0m\u001b[0m\n",
        "\u001b[0;32m/usr/local/lib/python2.7/site-packages/sklearn/utils/validation.pyc\u001b[0m in \u001b[0;36mcheck_array\u001b[0;34m(array, accept_sparse, dtype, order, copy, force_all_finite, ensure_2d, allow_nd, ensure_min_samples, ensure_min_features)\u001b[0m\n\u001b[1;32m    350\u001b[0m                              array.ndim)\n\u001b[1;32m    351\u001b[0m         \u001b[0;32mif\u001b[0m \u001b[0mforce_all_finite\u001b[0m\u001b[0;34m:\u001b[0m\u001b[0;34m\u001b[0m\u001b[0m\n\u001b[0;32m--> 352\u001b[0;31m             \u001b[0m_assert_all_finite\u001b[0m\u001b[0;34m(\u001b[0m\u001b[0marray\u001b[0m\u001b[0;34m)\u001b[0m\u001b[0;34m\u001b[0m\u001b[0m\n\u001b[0m\u001b[1;32m    353\u001b[0m \u001b[0;34m\u001b[0m\u001b[0m\n\u001b[1;32m    354\u001b[0m     \u001b[0mshape_repr\u001b[0m \u001b[0;34m=\u001b[0m \u001b[0m_shape_repr\u001b[0m\u001b[0;34m(\u001b[0m\u001b[0marray\u001b[0m\u001b[0;34m.\u001b[0m\u001b[0mshape\u001b[0m\u001b[0;34m)\u001b[0m\u001b[0;34m\u001b[0m\u001b[0m\n",
        "\u001b[0;32m/usr/local/lib/python2.7/site-packages/sklearn/utils/validation.pyc\u001b[0m in \u001b[0;36m_assert_all_finite\u001b[0;34m(X)\u001b[0m\n\u001b[1;32m     50\u001b[0m             and not np.isfinite(X).all()):\n\u001b[1;32m     51\u001b[0m         raise ValueError(\"Input contains NaN, infinity\"\n\u001b[0;32m---> 52\u001b[0;31m                          \" or a value too large for %r.\" % X.dtype)\n\u001b[0m\u001b[1;32m     53\u001b[0m \u001b[0;34m\u001b[0m\u001b[0m\n\u001b[1;32m     54\u001b[0m \u001b[0;34m\u001b[0m\u001b[0m\n",
        "\u001b[0;31mValueError\u001b[0m: Input contains NaN, infinity or a value too large for dtype('float64')."
       ]
      },
      {
       "output_type": "stream",
       "stream": "stdout",
       "text": [
        "\n",
        "Computing accuracy for CV set (size=733)...\n"
       ]
      },
      {
       "output_type": "stream",
       "stream": "stderr",
       "text": [
        "/Users/vaclavdedik/Projects/Master's Thesis/classifier/classifier/selectors.py:235: RuntimeWarning: invalid value encountered in divide\n",
        "  x_new = (((x * 0.5) / np.array(n, dtype=float)) + 0.5) * self.idfs\n"
       ]
      }
     ],
     "prompt_number": 10
    },
    {
     "cell_type": "code",
     "collapsed": false,
     "input": [
      "# Test model (accuracy)\n",
      "print \"Computing accuracy for CV set (size=%s)...\" % len(docs_cv)\n",
      "accuracy_cv = tests.accuracy(model, docs_cv)\n",
      "print \"Accuracy of CV set is: '%.4f'.\" % accuracy_cv\n",
      "# Test model (precision and recall)\n",
      "print \"Computing macro-average precision and recall for CV set...\"\n",
      "pr_cv = tests.precision_and_recall(model, docs_cv)\n",
      "print \"Average precision and recall of CV set is: '%.4f' and '%.4f'.\" \\\n",
      "    % pr_cv"
     ],
     "language": "python",
     "metadata": {},
     "outputs": [
      {
       "output_type": "stream",
       "stream": "stdout",
       "text": [
        "Computing accuracy for CV set (size=727)...\n",
        "Accuracy of CV set is: '0.5158'."
       ]
      },
      {
       "output_type": "stream",
       "stream": "stdout",
       "text": [
        "\n",
        "Computing macro-average precision and recall for CV set...\n",
        "Average precision and recall of CV set is: '0.5481' and '0.4568'."
       ]
      },
      {
       "output_type": "stream",
       "stream": "stdout",
       "text": [
        "\n"
       ]
      }
     ],
     "prompt_number": 41
    },
    {
     "cell_type": "code",
     "collapsed": false,
     "input": [
      "documents_teams = list(data)"
     ],
     "language": "python",
     "metadata": {},
     "outputs": [],
     "prompt_number": 34
    },
    {
     "cell_type": "code",
     "collapsed": false,
     "input": [
      "teams = {'ar31086': 'GVS',\n",
      " 'ashbridd': 'Beeston_App_Team',\n",
      " 'atw10269': 'Security_Team',\n",
      " 'atw10fy1': 'Security_Team',\n",
      " 'atw10rx4': 'SIP_Signalling',\n",
      " 'atw10ss2': 'SIP_Signalling',\n",
      " 'atw10t87': 'Media_Team_1',\n",
      " 'atw10v30': 'SIP_Signalling',\n",
      " 'bancrom': 'Beeston Network Team',\n",
      " 'beeston_networkteam': 'Beeston Network Team',\n",
      " 'brycedm': 'Beeston_App_Team',\n",
      " 'burnisti': 'Beeston_App_Team',\n",
      " 'ce000001': 'Video_team',\n",
      " 'churchij': 'Beeston_App_Team',\n",
      " 'cz2b1014': 'Media_Team_2',\n",
      " 'cz2b1021': 'SIP_Comms',\n",
      " 'cz2b10h8': 'Media_Team_1',\n",
      " 'cz2b10w5': 'SIP_Comms',\n",
      " 'cz2b1118': 'SIP_Comms',\n",
      " 'cz2b1121': 'Bluetooth_Team',\n",
      " 'cz2b1142': 'Media_Team_1',\n",
      " 'cz2b1148': 'OSM',\n",
      " 'cz2b1175': 'Bluetooth_Team',\n",
      " 'cz2b11e1': 'SIP_Comms',\n",
      " 'de000003': 'WEBM',\n",
      " 'dea21964': 'Others',\n",
      " 'dems1dp1': 'Media_Team_2',\n",
      " 'dems1dq9': 'Media_Team_2',\n",
      " 'demsrcm6': 'GVS',\n",
      " 'demx1nh4': 'GVS',\n",
      " 'demx8ag8': 'GVS',\n",
      " 'demxbyc5': 'GVS',\n",
      " 'demxeu88': 'GVS',\n",
      " 'demxqpr7': 'GVS',\n",
      " 'ds000028': 'DisplayAPI',\n",
      " 'dt100532': 'Others',\n",
      " 'filip.dvorak': 'GVS',\n",
      " 'frostpj': 'Beeston_App_Team',\n",
      " 'gl33195': 'Beeston_Network_team',\n",
      " 'grms0yc6': 'Athens',\n",
      " 'grms15p0': 'Athens',\n",
      " 'grmsjpp8': 'Athens',\n",
      " 'grmsxmc6': 'Athens',\n",
      " 'hb905670': 'Others',\n",
      " 'ho000000': 'Diagnostics',\n",
      " 'ja000004': 'SIP_Comms',\n",
      " 'johnsomr': 'Beeston_App_team',\n",
      " 'kb033562': 'Others',\n",
      " 'kj000027': 'SIP_Comms',\n",
      " 'kk34441': 'Others',\n",
      " 'km000019': 'Media_Team_1',\n",
      " 'kp000002': 'SIP_Comms',\n",
      " 'kt000006': 'DataManagement',\n",
      " 'kt000010': 'SIP_Comms',\n",
      " 'kv000003': 'Bluetooth_team',\n",
      " 'mb094355': 'Others',\n",
      " 'mj000012': 'SIP_Comms',\n",
      " 'ml000001': 'Others',\n",
      " 'normanma': 'Beeston_App_Team',\n",
      " 'oh000000': 'SIP_Signalling',\n",
      " 'okutan': 'DisplayAPI',\n",
      " 'om000004': 'DataManagement',\n",
      " 'op7672': 'HPT',\n",
      " 'os000000': 'FitneseTest',\n",
      " 'pf000006': 'GVS',\n",
      " 'phillipo': 'Beeston_Network_Team',\n",
      " 'pricejr': 'Beeston_App_team',\n",
      " 'rg32328': 'GVS',\n",
      " 'rl00005': 'Bluetooth_Team',\n",
      " 'rm000000': 'Media_Team_2',\n",
      " 'rs653486': 'Others',\n",
      " 'sa31232': 'GVS',\n",
      " 'sh906672': 'Vienna_Team',\n",
      " 'simnerjc': 'Beeston_Security_team',\n",
      " 'sm000004': 'Vienna_Team',\n",
      " 'smithjd': 'Beeston_App_team',\n",
      " 'sp000010': 'SIP_Comms',\n",
      " 'su33397': 'GVS',\n",
      " 'sv000002': 'Bluetooth_Team',\n",
      " 'sw000043': 'Others',\n",
      " 'tr1a5034': 'DataManagement',\n",
      " 'tr1a5035': 'DisplayAPI',\n",
      " 'tr1a5038': 'DisplayAPI',\n",
      " 'tr1a6317': 'DataManagement',\n",
      " 'tr1b5124': 'WEBM',\n",
      " 'tr1d5150': 'DataManagement',\n",
      " 'tr1d6114': 'SIP_Signalling',\n",
      " 'tr1e5116': 'Diagnostics',\n",
      " 'tr1e5165': 'DisplayAPI',\n",
      " 'tr1e5608': 'DisplayAPI',\n",
      " 'tr1k5155': 'DataManagement',\n",
      " 'tr1k6064': 'Others',\n",
      " 'tr1k6323': 'SIP_Signalling',\n",
      " 'tr1o5062': 'DataManagement',\n",
      " 'tr1o5093': 'DisplayAPI',\n",
      " 'tr1o6135': 'DisplayAPI',\n",
      " 'tr1s5155': 'WEMB',\n",
      " 'tr1s5177': 'DisplayAPI',\n",
      " 'tr1s6378': 'DataManagement',\n",
      " 'tr1y5028': 'Diagnostics',\n",
      " 'tr1y5156': 'LocalAdmin',\n",
      " 'tr1y6197': 'Diagnostics',\n",
      " 'tr1y6328': 'LocalAdmin',\n",
      " 'tr1z5035': 'WEBM',\n",
      " 'underwgp': 'Beeston_Network_team',\n",
      " 'waitepb': 'Beeston_App_Team',\n",
      " 'walkerjp': 'Beeston_Network_Team',\n",
      " 'winsorrw': 'Beeston_Network_Team',\n",
      " 'yc000001': 'Can Yagus',\n",
      " 'zp000001': 'Media_Team_2'}\n"
     ],
     "language": "python",
     "metadata": {},
     "outputs": [],
     "prompt_number": 35
    },
    {
     "cell_type": "code",
     "collapsed": false,
     "input": [
      "for doc in documents_teams:\n",
      "    doc.label = teams[doc.label]\n",
      "documents_teams = [doc for doc in documents_teams if doc.label not in ['GVS']]\n",
      "print len(documents_teams)"
     ],
     "language": "python",
     "metadata": {},
     "outputs": [
      {
       "output_type": "stream",
       "stream": "stdout",
       "text": [
        "2861\n"
       ]
      }
     ],
     "prompt_number": 36
    },
    {
     "cell_type": "code",
     "collapsed": false,
     "input": [
      "# Shuffle documents\n",
      "documents = list(documents_teams)\n",
      "random.seed(4) # use 3 for MRS\n",
      "random.shuffle(documents)\n",
      "random.seed()\n",
      "# Filter unlabeled documents and documents that are not labeled with\n",
      "# a class that occurs at lest `min_class_occur`\n",
      "documents = [doc for doc in documents if doc.label]\n",
      "print \"Filtering unlabeled documents...\"\n",
      "min_class_occur = 30\n",
      "documents = utils.filter_docs(documents, min_class_occur=min_class_occur)\n",
      "print \"Filtering documents labeled by class that occurs less than \" \\\n",
      "    + \"%s times.\" % min_class_occur\n",
      "# Split between train and cv data\n",
      "n = len(documents)\n",
      "split_pct = 7/10.0\n",
      "split_x = int(np.ceil(n*split_pct))\n",
      "docs_train = documents[:split_x]\n",
      "docs_cv = documents[split_x:]\n",
      "# Create model\n",
      "selector = selectors.TFIDFDecorator(selectors.StopWordsDecorator(\n",
      "    selectors.BasicSelector()))\n",
      "kernel = kernels.GaussianKernel()\n",
      "model = models.SVMModel(feature_selector=selector, kernel=kernel, C=240)\n",
      "print \"Created model: %s.\" % model\n",
      "# Train model\n",
      "print \"Training model on %s instances...\" % len(docs_train)\n",
      "model.train(docs_train)\n",
      "print \"Number of classes is: %s\" % len(model.feature_selector.labels)\n",
      "\n",
      "# Test model (accuracy)\n",
      "print \"Computing accuracy for CV set (size=%s)...\" % len(docs_cv)\n",
      "accuracy_cv = tests.accuracy(model, docs_cv)\n",
      "print \"Accuracy of CV set is: '%.4f'.\" % accuracy_cv\n",
      "# Test model (precision and recall)\n",
      "print \"Computing macro-average precision and recall for CV set...\"\n",
      "pr_cv = tests.precision_and_recall(model, docs_cv)\n",
      "print \"Average precision and recall of CV set is: '%.4f' and '%.4f'.\" \\\n",
      "    % pr_cv"
     ],
     "language": "python",
     "metadata": {},
     "outputs": [
      {
       "output_type": "stream",
       "stream": "stdout",
       "text": [
        "Filtering unlabeled documents...\n",
        "Filtering documents labeled by class that occurs less than 30 times.\n",
        "Created model: SVMModel(feature_selector=TFIDFDecorator()->StopWordsDecorator(language='english')->BasicSelector(), kernel=GaussianKernel(gamma=0.0), C=200).\n",
        "Training model on 1945 instances...\n",
        "Number of classes is: 19"
       ]
      },
      {
       "output_type": "stream",
       "stream": "stdout",
       "text": [
        "\n",
        "Computing accuracy for CV set (size=833)...\n",
        "Accuracy of CV set is: '0.5078'."
       ]
      },
      {
       "output_type": "stream",
       "stream": "stdout",
       "text": [
        "\n",
        "Computing macro-average precision and recall for CV set...\n",
        "Average precision and recall of CV set is: '0.5085' and '0.4267'."
       ]
      },
      {
       "output_type": "stream",
       "stream": "stdout",
       "text": [
        "\n"
       ]
      }
     ],
     "prompt_number": 37
    },
    {
     "cell_type": "code",
     "collapsed": false,
     "input": [
      "accuracies = {}\n",
      "counts = {}\n",
      "for doc in docs_cv:\n",
      "    hit = 0\n",
      "    if doc.label in model.predict(doc):\n",
      "        hit = 1\n",
      "\n",
      "    if doc.label in accuracies:\n",
      "        accuracies[doc.label] += hit\n",
      "        counts[doc.label] += 1\n",
      "    else:\n",
      "        accuracies[doc.label] = hit\n",
      "        counts[doc.label] = 1\n",
      "\n",
      "for label, hits in accuracies.items():\n",
      "    accuracies[label] = hits/float(counts[label])\n",
      "\n",
      "print accuracies\n",
      "print counts"
     ],
     "language": "python",
     "metadata": {},
     "outputs": [
      {
       "output_type": "stream",
       "stream": "stdout",
       "text": [
        "{'Security_Team': 0.6025641025641025, 'Vienna_Team': 0.4, 'SIP_Signalling': 0.6707317073170732, 'Beeston_App_Team': 0.43333333333333335, 'Beeston_Security_team': 0.5714285714285714, 'SIP_Comms': 0.5373134328358209, 'DataManagement': 0.7456140350877193, 'Media_Team_1': 0.26666666666666666, 'Media_Team_2': 0.39285714285714285, 'DisplayAPI': 0.5164835164835165, 'LocalAdmin': 0.8032786885245902, 'Beeston_Network_Team': 0.42857142857142855, 'Bluetooth_Team': 0.391304347826087, 'Can Yagus': 0.4666666666666667, 'Beeston Network Team': 0.37037037037037035}\n",
        "{'Security_Team': 78, 'Vienna_Team': 55, 'SIP_Signalling': 82, 'Beeston_App_Team': 30, 'Beeston_Security_team': 7, 'SIP_Comms': 67, 'DataManagement': 114, 'Media_Team_1': 30, 'Media_Team_2': 28, 'DisplayAPI': 91, 'LocalAdmin': 61, 'Beeston_Network_Team': 21, 'Bluetooth_Team': 23, 'Can Yagus': 30, 'Beeston Network Team': 27}\n"
       ]
      }
     ],
     "prompt_number": 27
    },
    {
     "cell_type": "code",
     "collapsed": false,
     "input": [
      "{'Beeston_Network_Team': 0.6842105263157895, 'SIP_Comms': 0.5, 'Vienna_Team': 0.3793103448275862, 'SIP_Signalling': 0.5955056179775281, 'Beeston_App_Team': 0.4878048780487805, 'Beeston_Security_team': 0.45454545454545453, 'Security_Team': 0.75, 'Others': 0.23076923076923078, 'Beeston_App_team': 0.17391304347826086, 'DataManagement': 0.719626168224299, 'Media_Team_1': 0.40540540540540543, 'GVS': 0.38095238095238093, 'Media_Team_2': 0.3684210526315789, 'DisplayAPI': 0.45714285714285713, 'Diagnostics': 0.13043478260869565, 'LocalAdmin': 0.7627118644067796, 'WEBM': 0.2571428571428571, 'Bluetooth_Team': 0.3225806451612903, 'Can Yagus': 0.4411764705882353, 'Beeston Network Team': 0.32142857142857145}\n",
      "{'Beeston_Network_Team': 19, 'SIP_Comms': 66, 'Vienna_Team': 58, 'SIP_Signalling': 89, 'Beeston_App_Team': 41, 'Beeston_Security_team': 11, 'Security_Team': 68, 'Others': 13, 'Beeston_App_team': 23, 'DataManagement': 107, 'Media_Team_1': 37, 'GVS': 21, 'Media_Team_2': 19, 'DisplayAPI': 70, 'Diagnostics': 23, 'LocalAdmin': 59, 'WEBM': 35, 'Bluetooth_Team': 31, 'Can Yagus': 34, 'Beeston Network Team': 28}"
     ],
     "language": "python",
     "metadata": {},
     "outputs": []
    }
   ],
   "metadata": {}
  }
 ]
}