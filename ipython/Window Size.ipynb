{
 "metadata": {
  "name": ""
 },
 "nbformat": 3,
 "nbformat_minor": 0,
 "worksheets": [
  {
   "cells": [
    {
     "cell_type": "code",
     "collapsed": false,
     "input": [
      "import matplotlib.pyplot as plt\n",
      "\n",
      "# reports = [1000, 2000, 3000, 4000, 5000, 5650]\n",
      "# classes = [33, 33, 35, 36, 36]\n",
      "window_nb = [(0.4900, 0.2827, 0.2819), (0.4667, 0.2823, 0.2914), (0.4467, 0.3004, 0.3021), (0.4400, 0.3000, 0.2831), (0.4133, 0.3203, 0.2924), (0.4200, 0.3261, 0.2898)]\n",
      "\n",
      "# dates = [2014-11-25 - : 2013-11-21, 2013-05-20, 2012-11-21, 2012-05-21, 2011-11-25, 2011-04-12, 2010-09-01, 2010-03-02]\n",
      "# index = [300 - 2200, 2201 - 3500, 3501 - 4400, 4401 - 5220, 5221 - 5810, 5811 - 6310, 6311 - 6810, 6811 - 7310]\n",
      "# classes = 65, 64, 73, 74, 75, 75, 78, 79\n",
      "window_nb2 = [(0.3133, 0.1297, 0.1194), (0.3433, 0.1444, 0.1352), (0.3000, 0.1412, 0.1394), (0.3467, 0.1722, 0.1589), (0.2700, 0.1556, 0.1291), (0.3033, 0.1301, 0.1221), (0.2700, 0.1702, 0.1358), (0.2700, 0.1333, 0.1216)]\n",
      "\n",
      "# dates = [2014-12-12 - : 2013-09-18, 2013-03-19, 2012-09-18, 2012-03-28, 2011-09-22, 2011-03-25, 2010-09-20, 2010-01-01]\n",
      "# index = [300 - 3300, 4800, 5800, 6600, 7400, 7800, 8300, 9140]\n",
      "# classes = [25, 28, 29, 29, 28, 28]\n",
      "window_nb3 = [(0.5528, 0.3404, 0.3565), (0.5130, 0.3053, 0.2775), (0.4481, 0.2681, 0.2365), (0.4295, 0.2567, 0.2301), (0.4231, 0.2658, 0.2569), (0.4183, 0.3163, 0.2941), (0.4052, 0.2460, 0.2055), (0.3704, 0.2989, 0.2449)]\n",
      "# classes = [25, 40, \n",
      "window_nb4 = [(0.5528, 0.3404, 0.3565), (0.4551, 0.2560, 0.2522)]"
     ],
     "language": "python",
     "metadata": {},
     "outputs": [],
     "prompt_number": 18
    },
    {
     "cell_type": "code",
     "collapsed": false,
     "input": [
      "fig = plt.figure(figsize=(12, 6), dpi=100)\n",
      "x_axis = [1000, 2000, 3000, 4000, 5000, 5650]\n",
      "plt.plot([x for x in x_axis], [y for y, _, _ in window_nb], 'g', label=\"Accuracy\")\n",
      "plt.plot([x for x in x_axis], [y for _, y, _ in window_nb], 'b', label=\"Precision\")\n",
      "plt.plot([x for x in x_axis], [y for _, _, y in window_nb], 'r', label=\"Recall\")\n",
      "plt.title(\"Accuracy, Precision and Recall of SVM+TFIDF for different number of samples\")\n",
      "plt.ylabel(\"Performance value\")\n",
      "plt.xlabel(\"Number of samples\")\n",
      "plt.axis([1000, 5650, 0, 0.6])\n",
      "plt.legend()\n",
      "plt.show()"
     ],
     "language": "python",
     "metadata": {},
     "outputs": [],
     "prompt_number": 12
    },
    {
     "cell_type": "code",
     "collapsed": false,
     "input": [
      "fig = plt.figure(figsize=(12, 6), dpi=100)\n",
      "x_axis2 = [12, 18, 24, 30, 36, 43, 50, 56]\n",
      "plt.plot([x for x in x_axis2], [y for y, _, _ in window_nb2], 'g', label=\"Accuracy\")\n",
      "plt.plot([x for x in x_axis2], [y for _, y, _ in window_nb2], 'b', label=\"Precision\")\n",
      "plt.plot([x for x in x_axis2], [y for _, _, y in window_nb2], 'r', label=\"Recall\")\n",
      "plt.title(\"Accuracy, Precision and Recall of SVM+TFIDF for the first approach\")\n",
      "plt.ylabel(\"Performance value\")\n",
      "plt.xlabel(\"Size of the window in months\")\n",
      "plt.axis([12, 56, 0, 0.4])\n",
      "plt.legend()\n",
      "plt.show()"
     ],
     "language": "python",
     "metadata": {},
     "outputs": [],
     "prompt_number": 16
    },
    {
     "cell_type": "code",
     "collapsed": false,
     "input": [
      "fig = plt.figure(figsize=(12, 6), dpi=100)\n",
      "x_axis2 = [15, 21, 27, 33, 39, 45, 51, 59]\n",
      "plt.plot([x for x in x_axis2], [y for y, _, _ in window_nb3], 'g', label=\"Accuracy\")\n",
      "plt.plot([x for x in x_axis2], [y for _, y, _ in window_nb3], 'b', label=\"Precision\")\n",
      "plt.plot([x for x in x_axis2], [y for _, _, y in window_nb3], 'r', label=\"Recall\")\n",
      "plt.title(\"Accuracy, Precision and Recall of SVM+TFIDF for the second approach\")\n",
      "plt.ylabel(\"Performance value\")\n",
      "plt.xlabel(\"Size of the window in months\")\n",
      "plt.axis([15, 59, 0, 0.6])\n",
      "plt.legend()\n",
      "plt.show()"
     ],
     "language": "python",
     "metadata": {},
     "outputs": [],
     "prompt_number": 19
    },
    {
     "cell_type": "code",
     "collapsed": false,
     "input": [],
     "language": "python",
     "metadata": {},
     "outputs": []
    }
   ],
   "metadata": {}
  }
 ]
}