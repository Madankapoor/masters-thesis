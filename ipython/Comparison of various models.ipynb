{
 "metadata": {
  "name": ""
 },
 "nbformat": 3,
 "nbformat_minor": 0,
 "worksheets": [
  {
   "cells": [
    {
     "cell_type": "code",
     "collapsed": false,
     "input": [
      "# Data list of [SVM, NB, CART,\n",
      "#               SVM+StopWords, NB+StopWords, CART+StopWords,\n",
      "#               SVM+StopWords+TF-IDF, NB+StopWords+TF-IDF, CART+StopWords+TF-IDF\n",
      "#               SVM+StopWords+LSI+Normalization, NB+StopWords+LSI+Normalization, CART+StopWords+LSI+Normalization,\n",
      "#               SVM+StopWords+ChiSquared, NB+StopWords+ChiSquared, CART+StopWords+ChiSquared\n",
      "#]\n",
      "# Each element in the list contains a tuple of (Accuracy, precision, recall)\n",
      "# SVM settings: C=240, kernel=GaussianKernel(gamma=0.0)\n",
      "# LSI settings: k=125\n",
      "# ChiSquared settings: threshold=10.86\n",
      "# Class requirements: 30\n",
      "data_firefox = [\n",
      "    (0.4622, 0.4483, 0.3063), (0.3462, 0.3004, 0.2141), (0.4328, 0.3364, 0.3377),\n",
      "    (0.5064, 0.4409, 0.3541), (0.3517, 0.3565, 0.2251), (0.4365, 0.3485, 0.3313),\n",
      "    (0.5709, 0.5109, 0.4494), (0.3333, 0.2890, 0.2160), (0.4751, 0.3795, 0.3687),\n",
      "    (0.5304, 0.4906, 0.3676), (0.4088, 0.3489, 0.3619), (0.3002, 0.2048, 0.2104),\n",
      "    (0.5046, 0.4401, 0.3472), (0.3517, 0.3412, 0.2286), (0.4346, 0.3536, 0.3478)\n",
      "]\n",
      "\n",
      "data_netbeans = [\n",
      "    (0.4274, 0.4351, 0.3486), (0.3615, 0.3276, 0.2796), (0.3918, 0.3842, 0.3425),\n",
      "    (0.4472, 0.5234, 0.3663), (0.3681, 0.3507, 0.2937), (0.3958, 0.3456, 0.3473),\n",
      "    (0.5251, 0.5327, 0.4929), (0.3707, 0.3462, 0.2952), (0.3720, 0.3488, 0.3426),\n",
      "    (0.4129, 0.3930, 0.3363), (0.3232, 0.3313, 0.2984), (0.2058, 0.1668, 0.1691),\n",
      "    (0.4406, 0.5096, 0.3612), (0.3681, 0.3507, 0.2937), (0.3945, 0.3572, 0.3397)\n",
      "]\n",
      "\n",
      "data_prop = [\n",
      "    (0.2647, 0.2770, 0.1851), (0.2760, 0.2580, 0.2239), (0.2104, 0.1868, 0.1823),\n",
      "    (0.2783, 0.2666, 0.1834), (0.2760, 0.2607, 0.2273), (0.2376, 0.1946, 0.2010),\n",
      "    (0.3710, 0.3191, 0.3127), (0.2851, 0.2773, 0.2383), (0.2149, 0.1792, 0.1793),\n",
      "    (0.3100, 0.2661, 0.2138), (0.2670, 0.2827, 0.2623), (0.1606, 0.1395, 0.1612),\n",
      "    (0.2783, 0.2716, 0.1842), (0.2783, 0.2597, 0.2285), (0.2557, 0.2159, 0.2070)\n",
      "]"
     ],
     "language": "python",
     "metadata": {},
     "outputs": [],
     "prompt_number": 14
    },
    {
     "cell_type": "code",
     "collapsed": false,
     "input": [
      "import numpy as np\n",
      "import matplotlib.pyplot as plt"
     ],
     "language": "python",
     "metadata": {},
     "outputs": [],
     "prompt_number": 7
    },
    {
     "cell_type": "code",
     "collapsed": false,
     "input": [
      "def plot_data(data, data_name):\n",
      "    N = len(data)\n",
      "    accuracy = [x for x, _, _ in data]\n",
      "\n",
      "    ind = np.arange(N) + 0.5  # the x locations for the groups\n",
      "    width = 0.30      # the width of the bars\n",
      "\n",
      "    fig, ax = plt.subplots()\n",
      "    rects1 = ax.bar(ind, accuracy, width, color='g')\n",
      "\n",
      "    precision = [x for _, x, _ in data]\n",
      "    rects2 = ax.bar(ind+width, precision, width, color='b')\n",
      "    \n",
      "    recall = [x for _, _, x in data]\n",
      "    rects3 = ax.bar(ind+width+width, recall, width, color='r')\n",
      "\n",
      "    # add some text for labels, title and axes ticks\n",
      "    ax.set_ylabel('Value')\n",
      "    plt.ylim(0, 0.7)\n",
      "    ax.set_title('Accuracy, precision and recall of various models, %s' % data_name)\n",
      "    ax.set_xticks(ind+width)\n",
      "    ax.set_xticklabels(\n",
      "        ('SVM', 'NB', 'CART',\n",
      "         'SVM+StopWords', 'NB+StopWords', 'CART+StopWords',\n",
      "         'SVM+TFIDF', 'NB+TFIDF', 'CART+TFIDF',\n",
      "         'SVM+LSI', 'NB+LSI', 'CART+LSI',\n",
      "         'SVM+X2', 'NB+X2', 'CART+X2')\n",
      "    )\n",
      "\n",
      "    ax.legend( (rects1[0], rects2[0], rects3[0]), ('Accuracy', 'Precision', 'Recall') )\n",
      "\n",
      "    def autolabel(rects):\n",
      "        # attach some text labels\n",
      "        for rect in rects:\n",
      "            height = rect.get_height()\n",
      "            ax.text(rect.get_x()+rect.get_width()/2., 1.025*height, '%.2f'%float(height),\n",
      "                    ha='center', va='bottom')\n",
      "\n",
      "    autolabel(rects1)\n",
      "    autolabel(rects2)\n",
      "    autolabel(rects3)\n",
      "\n",
      "    plt.show()"
     ],
     "language": "python",
     "metadata": {},
     "outputs": [],
     "prompt_number": 10
    },
    {
     "cell_type": "code",
     "collapsed": false,
     "input": [
      "plot_data(data_firefox, \"Firefox data\")"
     ],
     "language": "python",
     "metadata": {},
     "outputs": [],
     "prompt_number": 11
    },
    {
     "cell_type": "code",
     "collapsed": false,
     "input": [
      "plot_data(data_prop, \"Proprietary data\")"
     ],
     "language": "python",
     "metadata": {},
     "outputs": [],
     "prompt_number": 13
    },
    {
     "cell_type": "code",
     "collapsed": false,
     "input": [
      "plot_data(data_netbeans, \"Netbeans data\")"
     ],
     "language": "python",
     "metadata": {},
     "outputs": [],
     "prompt_number": 15
    },
    {
     "cell_type": "code",
     "collapsed": false,
     "input": [],
     "language": "python",
     "metadata": {},
     "outputs": []
    }
   ],
   "metadata": {}
  }
 ]
}