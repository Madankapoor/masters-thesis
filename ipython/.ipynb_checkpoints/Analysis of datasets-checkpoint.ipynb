{
 "metadata": {
  "name": ""
 },
 "nbformat": 3,
 "nbformat_minor": 0,
 "worksheets": [
  {
   "cells": [
    {
     "cell_type": "code",
     "collapsed": false,
     "input": [
      "import sys\n",
      "import random\n",
      "import matplotlib.pyplot as plt\n",
      "\n",
      "sys.path.append(\"..\")\n",
      "from triager.parsers import BugzillaParser"
     ],
     "language": "python",
     "metadata": {},
     "outputs": [],
     "prompt_number": 34
    },
    {
     "cell_type": "code",
     "collapsed": false,
     "input": [
      "parser = BugzillaParser(\"../data/opensource/mozilla_firefox\")\n",
      "fx_data_origin = parser.parse()"
     ],
     "language": "python",
     "metadata": {},
     "outputs": [],
     "prompt_number": 23
    },
    {
     "cell_type": "code",
     "collapsed": false,
     "input": [
      "def count_labels(data):\n",
      "    labels = {}\n",
      "    for d in data:\n",
      "        if d.label in labels:\n",
      "            labels[d.label] += 1\n",
      "        else:\n",
      "            labels[d.label] = 1\n",
      "    return labels\n",
      "\n",
      "def plot_distribution_of_labels(data, title=\"Histogram\"):\n",
      "    labels_count = count_labels(data)\n",
      "    counts = labels_count.values()\n",
      "    filtered_counts = filter(lambda x: x >= 30, counts)\n",
      "    f, axarr = plt.subplots(2, sharey=True)\n",
      "    axarr[0].hist(filtered_counts)\n",
      "    axarr[1].hist(filtered_counts, cumulative=True, normed=True)\n",
      "    axarr[0].set_title(title)\n",
      "    f.text(0.06, 0.5, 'Probability', ha='center', va='center', rotation='vertical')\n",
      "    plt.xlabel(\"Value\")\n",
      "    plt.show()"
     ],
     "language": "python",
     "metadata": {},
     "outputs": [],
     "prompt_number": 76
    },
    {
     "cell_type": "code",
     "collapsed": false,
     "input": [
      "print len(fx_data_origin)\n",
      "fx_data = list(fx_data_origin)\n",
      "fx_data = fx_data[:3000]\n",
      "fx_data_devs = count_labels(fx_data)"
     ],
     "language": "python",
     "metadata": {},
     "outputs": [
      {
       "output_type": "stream",
       "stream": "stdout",
       "text": [
        "9141\n"
       ]
      }
     ],
     "prompt_number": 57
    },
    {
     "cell_type": "code",
     "collapsed": false,
     "input": [
      "print len(count_labels(fx_data))\n",
      "fx_data_30 = filter(lambda x: fx_data_devs[x.label] >= 30, fx_data)\n",
      "print len(fx_data_30)\n",
      "print len(count_labels(fx_data_30))"
     ],
     "language": "python",
     "metadata": {},
     "outputs": [
      {
       "output_type": "stream",
       "stream": "stdout",
       "text": [
        "343\n",
        "1810\n",
        "20\n"
       ]
      }
     ],
     "prompt_number": 59
    },
    {
     "cell_type": "code",
     "collapsed": false,
     "input": [
      "plot_distribution_of_labels(fx_data)"
     ],
     "language": "python",
     "metadata": {},
     "outputs": [],
     "prompt_number": 75
    },
    {
     "cell_type": "code",
     "collapsed": false,
     "input": [],
     "language": "python",
     "metadata": {},
     "outputs": []
    }
   ],
   "metadata": {}
  }
 ]
}