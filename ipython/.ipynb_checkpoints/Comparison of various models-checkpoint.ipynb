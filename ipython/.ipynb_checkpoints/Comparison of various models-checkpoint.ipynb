{
 "metadata": {
  "name": ""
 },
 "nbformat": 3,
 "nbformat_minor": 0,
 "worksheets": [
  {
   "cells": [
    {
     "cell_type": "code",
     "collapsed": false,
     "input": [
      "# Data list of [SVM, NB, CART,\n",
      "#               SVM+StopWords, NB+StopWords, CART+StopWords,\n",
      "#               SVM+StopWords+TF-IDF, NB+StopWords+TF-IDF, CART+StopWords+TF-IDF\n",
      "#               SVM+StopWords+LSI, NB+StopWords+LSI, CART+StopWords+LSI,\n",
      "#               SVM+StopWords+ChiSquared, NB+StopWords+ChiSquared, CART+StopWords+ChiSquared\n",
      "#]\n",
      "# Each element in the list contains a tuple of (Accuracy, precision, recall)\n",
      "# SVM settings: C=240, kernel=GaussianKernel(gamma=0.0)\n",
      "# LSI settings: k=125\n",
      "# ChiSquared settings: threshold=10.86\n",
      "data_firefox = [\n",
      "    (0.4678, 0.3961, 0.3121), (0.3425, 0.3411, 0.2309), (0.4365, 0.3267, 0.3069),\n",
      "    (0.5064, 0.4409, 0.3541), (0.3517, 0.3565, 0.2251), (0.4365, 0.3485, 0.3313),\n",
      "    (0.5709, 0.5109, 0.4494), (0.3333, 0.2890, 0.2160), (0.4751, 0.3795, 0.3687),\n",
      "    (0.4365, 0.3170, 0.2643), (0.1750, 0.2144, 0.1513), (0.2799, 0.2183, 0.2232),\n",
      "    (0.5046, 0.4401, 0.3472), (0.3517, 0.3412, 0.2286), (0.4346, 0.3536, 0.3478)\n",
      "]"
     ],
     "language": "python",
     "metadata": {},
     "outputs": [],
     "prompt_number": 2
    },
    {
     "cell_type": "code",
     "collapsed": false,
     "input": [
      "import numpy as np\n",
      "import matplotlib.pyplot as plt"
     ],
     "language": "python",
     "metadata": {},
     "outputs": [],
     "prompt_number": 3
    },
    {
     "cell_type": "code",
     "collapsed": false,
     "input": [
      "def plot_data(data):\n",
      "    N = len(data)\n",
      "    accuracy = [x for x, _, _ in data]\n",
      "\n",
      "    ind = np.arange(N) + 0.5  # the x locations for the groups\n",
      "    width = 0.25      # the width of the bars\n",
      "\n",
      "    fig, ax = plt.subplots()\n",
      "    rects1 = ax.bar(ind, accuracy, width, color='g')\n",
      "\n",
      "    precision = [x for _, x, _ in data]\n",
      "    rects2 = ax.bar(ind+width, precision, width, color='b')\n",
      "    \n",
      "    recall = [x for _, _, x in data]\n",
      "    rects3 = ax.bar(ind+width+width, recall, width, color='r')\n",
      "\n",
      "    # add some text for labels, title and axes ticks\n",
      "    ax.set_ylabel('Value')\n",
      "    plt.ylim(0, 0.7)\n",
      "    ax.set_title('Accuracy, precision and recall of various models')\n",
      "    ax.set_xticks(ind+width)\n",
      "    ax.set_xticklabels(\n",
      "        ('SVM', 'NB', 'CART',\n",
      "         'SVM+StopWords', 'NB+StopWords', 'CART+StopWords',\n",
      "         'SVM+TFIDF', 'NB+TFIDF', 'CART+TFIDF',\n",
      "         'SVM+LSI', 'NB+LSI', 'CART+LSI',\n",
      "         'SVM+X2', 'NB+X2', 'CART+X2')\n",
      "    )\n",
      "\n",
      "    ax.legend( (rects1[0], rects2[0], rects3[0]), ('Accuracy', 'Precision', 'Recall') )\n",
      "\n",
      "    def autolabel(rects):\n",
      "        # attach some text labels\n",
      "        for rect in rects:\n",
      "            height = rect.get_height()\n",
      "            ax.text(rect.get_x()+rect.get_width()/2., 1.025*height, '%.2f'%float(height),\n",
      "                    ha='center', va='bottom')\n",
      "\n",
      "    autolabel(rects1)\n",
      "    autolabel(rects2)\n",
      "    autolabel(rects3)\n",
      "\n",
      "    plt.show()"
     ],
     "language": "python",
     "metadata": {},
     "outputs": [],
     "prompt_number": 4
    },
    {
     "cell_type": "code",
     "collapsed": false,
     "input": [
      "plot_data(data_firefox)"
     ],
     "language": "python",
     "metadata": {},
     "outputs": [],
     "prompt_number": 5
    },
    {
     "cell_type": "code",
     "collapsed": false,
     "input": [],
     "language": "python",
     "metadata": {},
     "outputs": []
    }
   ],
   "metadata": {}
  }
 ]
}