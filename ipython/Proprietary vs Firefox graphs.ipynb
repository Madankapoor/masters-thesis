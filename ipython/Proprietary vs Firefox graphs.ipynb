{
 "metadata": {
  "name": ""
 },
 "nbformat": 3,
 "nbformat_minor": 0,
 "worksheets": [
  {
   "cells": [
    {
     "cell_type": "code",
     "collapsed": false,
     "input": [
      "svm_propriatery = [(1, 0.1935, 0.0427, 0.0443), (3, 0.2256, 0.0910, 0.0768), (5, 0.2343, 0.0928, 0.1040), (10, 0.2346, 0.1391, 0.1428), (20, 0.2633, 0.1731, 0.1966), (30, 0.3303, 0.3177, 0.2647)]\n",
      "nb_propriatery = [(1, 0.1801, 0.0798, 0.0595), (3, 0.1723, 0.1146, 0.0799), (5, 0.1903, 0.1171, 0.0947), (10, 0.1986, 0.1632, 0.1357), (20, 0.2083, 0.2001, 0.1525), (30, 0.2466, 0.2241, 0.1949)]\n",
      "svm_os = [(1, 0.2944, 0.0318, 0.0345), (3, 0.3689, 0.1813, 0.1499), (5, 0.3964, 0.2481, 0.2169), (10, 0.4527, 0.3531, 0.3186), (20, 0.4854, 0.4790, 0.4371), (30, 0.5429, 0.5370, 0.4973)]\n",
      "nb_os = [(1, 0.2333, 0.0767, 0.0535), (3, 0.2757, 0.2095, 0.1163), (5, 0.2859, 0.2521, 0.1609), (10, 0.2881, 0.3428, 0.2078), (20, 0.3482, 0.4044, 0.2756), (30, 0.3524, 0.4590, 0.2856)]"
     ],
     "language": "python",
     "metadata": {},
     "outputs": [],
     "prompt_number": 1
    },
    {
     "cell_type": "code",
     "collapsed": false,
     "input": [
      "import matplotlib.pyplot as plt"
     ],
     "language": "python",
     "metadata": {},
     "outputs": [],
     "prompt_number": 2
    },
    {
     "cell_type": "code",
     "collapsed": false,
     "input": [
      "# Accuracy of SVM\n",
      "plt.plot([x for x, _, _, _ in svm_propriatery], [y for _, y, _, _ in svm_propriatery], label=\"Proprietary data\")\n",
      "plt.plot([x for x, _, _, _ in svm_os], [y for _, y, _, _ in svm_os], label=\"Firefox data\")\n",
      "plt.title(\"Accuracy of SVM model with TF-IDF and stop-list words removed\")\n",
      "plt.ylabel(\"Accuracy\")\n",
      "plt.xlabel(\"Min. number of samples in classes\")\n",
      "plt.axis([0, 30, 0, 1])\n",
      "plt.legend()\n",
      "plt.show()"
     ],
     "language": "python",
     "metadata": {},
     "outputs": [],
     "prompt_number": 3
    },
    {
     "cell_type": "code",
     "collapsed": false,
     "input": [
      "# Precision of SVM\n",
      "plt.plot([x for x, _, _, _ in svm_propriatery], [y for _, _, y, _ in svm_propriatery], label=\"Proprietary data\")\n",
      "plt.plot([x for x, _, _, _ in svm_os], [y for _, _, y, _ in svm_os], label=\"Firefox data\")\n",
      "plt.title(\"Precision of SVM model with TF-IDF and stop-list words removed\")\n",
      "plt.ylabel(\"Precision\")\n",
      "plt.xlabel(\"Min. number of samples in classes\")\n",
      "plt.axis([0, 30, 0, 1])\n",
      "plt.legend()\n",
      "plt.show()"
     ],
     "language": "python",
     "metadata": {},
     "outputs": [],
     "prompt_number": 4
    },
    {
     "cell_type": "code",
     "collapsed": false,
     "input": [
      "# Recall of SVM\n",
      "plt.plot([x for x, _, _, _ in svm_propriatery], [y for _, _, _, y in svm_propriatery], label=\"Proprietary data\")\n",
      "plt.plot([x for x, _, _, _ in svm_os], [y for _, _, _, y in svm_os], label=\"Firefox data\")\n",
      "plt.title(\"Recall of SVM model with TF-IDF and stop-list words removed\")\n",
      "plt.ylabel(\"Recall\")\n",
      "plt.xlabel(\"Min. number of samples in classes\")\n",
      "plt.axis([0, 30, 0, 1])\n",
      "plt.legend()\n",
      "plt.show()"
     ],
     "language": "python",
     "metadata": {},
     "outputs": [],
     "prompt_number": 5
    },
    {
     "cell_type": "code",
     "collapsed": false,
     "input": [
      "# Accuracy of NB\n",
      "plt.plot([x for x, _, _, _ in nb_propriatery], [y for _, y, _, _ in nb_propriatery], label=\"Proprietary data\")\n",
      "plt.plot([x for x, _, _, _ in nb_os], [y for _, y, _, _ in nb_os], label=\"Firefox data\")\n",
      "plt.title(\"Accuracy of Naive Bayes model with TF-IDF and stop-list words removed\")\n",
      "plt.ylabel(\"Accuracy\")\n",
      "plt.xlabel(\"Min. number of samples in classes\")\n",
      "plt.axis([0, 30, 0, 1])\n",
      "plt.legend()\n",
      "plt.show()"
     ],
     "language": "python",
     "metadata": {},
     "outputs": [],
     "prompt_number": 6
    },
    {
     "cell_type": "code",
     "collapsed": false,
     "input": [
      "# Precision of NB\n",
      "plt.plot([x for x, _, _, _ in nb_propriatery], [y for _, _, y, _ in nb_propriatery], label=\"Proprietary data\")\n",
      "plt.plot([x for x, _, _, _ in nb_os], [y for _, _, y, _ in nb_os], label=\"Firefox data\")\n",
      "plt.title(\"Precision of Naive Bayes model with TF-IDF and stop-list words removed\")\n",
      "plt.ylabel(\"Precision\")\n",
      "plt.xlabel(\"Min. number of samples in classes\")\n",
      "plt.axis([0, 30, 0, 1])\n",
      "plt.legend()\n",
      "plt.show()"
     ],
     "language": "python",
     "metadata": {},
     "outputs": [],
     "prompt_number": 7
    },
    {
     "cell_type": "code",
     "collapsed": false,
     "input": [
      "# Recall of NB\n",
      "plt.plot([x for x, _, _, _ in nb_propriatery], [y for _, _, _, y in nb_propriatery], label=\"Proprietary data\")\n",
      "plt.plot([x for x, _, _, _ in nb_os], [y for _, _, _, y in nb_os], label=\"Firefox data\")\n",
      "plt.title(\"Recall of Naive Bayes model with TF-IDF and stop-list words removed\")\n",
      "plt.ylabel(\"Recall\")\n",
      "plt.xlabel(\"Min. number of samples in classes\")\n",
      "plt.axis([0, 30, 0, 1])\n",
      "plt.legend()\n",
      "plt.show()"
     ],
     "language": "python",
     "metadata": {},
     "outputs": [],
     "prompt_number": 8
    },
    {
     "cell_type": "code",
     "collapsed": false,
     "input": [],
     "language": "python",
     "metadata": {},
     "outputs": []
    }
   ],
   "metadata": {}
  }
 ]
}