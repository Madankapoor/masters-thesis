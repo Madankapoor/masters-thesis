{
 "metadata": {
  "name": ""
 },
 "nbformat": 3,
 "nbformat_minor": 0,
 "worksheets": [
  {
   "cells": [
    {
     "cell_type": "code",
     "collapsed": false,
     "input": [
      "svm_prop = [(1, 0.1935, 0.0427, 0.0443), (3, 0.2256, 0.0910, 0.0768), (5, 0.2343, 0.0928, 0.1040), (10, 0.2346, 0.1391, 0.1428), (20, 0.2633, 0.1731, 0.1966), (30, 0.3303, 0.3177, 0.2647)]\n",
      "nb_prop = [(1, 0.1801, 0.0798, 0.0595), (3, 0.1723, 0.1146, 0.0799), (5, 0.1903, 0.1171, 0.0947), (10, 0.1986, 0.1632, 0.1357), (20, 0.2083, 0.2001, 0.1525), (30, 0.2466, 0.2241, 0.1949)]\n",
      "\n",
      "svm_os = [(1, 0.2944, 0.0318, 0.0345), (3, 0.3689, 0.1813, 0.1499), (5, 0.3964, 0.2481, 0.2169), (10, 0.4527, 0.3531, 0.3186), (20, 0.4854, 0.4790, 0.4371), (30, 0.5429, 0.5370, 0.4973)]\n",
      "nb_os = [(1, 0.2333, 0.0767, 0.0535), (3, 0.2757, 0.2095, 0.1163), (5, 0.2859, 0.2521, 0.1609), (10, 0.2881, 0.3428, 0.2078), (20, 0.3482, 0.4044, 0.2756), (30, 0.3524, 0.4590, 0.2856)]\n",
      "cart_os = [(1, 0.2611, 0.0350, 0.0395), (3, 0.3007, 0.0920, 0.0967), (5, 0.3263, 0.1483, 0.1534), (10, 0.3471, 0.1937, 0.2079), (20, 0.4210, 0.3029, 0.3306), (30, 0.4444, 0.3480, 0.3445)]\n",
      "\n",
      "svm_prop2 = [(1, 0.4151, 0.1535, 0.1380), (3, 0.4314, 0.2014, 0.1897), (5, 0.4354, 0.2587, 0.2299), (10, 0.4562, 0.3368, 0.3039), (20, 0.5039, 0.5239, 0.4168), (30, 0.5296, 0.5884, 0.4725)]\n",
      "nb_prop2 = [(1, 0.3295, 0.2047, 0.1483), (3, 0.3322, 0.2598, 0.1845), (5, 0.3392, 0.3193, 0.2252), (10, 0.3528, 0.3918, 0.2658), (20, 0.3763, 0.4153, 0.2893), (30, 0.4017, 0.4904, 0.3356)]\n",
      "cart_prop2 = [(1, 0.3387, 0.1653, 0.1551), (3, 0.3391, 0.1901, 0.1832), (5, 0.3462, 0.2533, 0.2227), (10, 0.3686, 0.3085, 0.2846), (20, 0.4115, 0.3856, 0.3471), (30, 0.4113, 0.3990, 0.3701)]\n"
     ],
     "language": "python",
     "metadata": {},
     "outputs": [],
     "prompt_number": 1
    },
    {
     "cell_type": "code",
     "collapsed": false,
     "input": [
      "import matplotlib.pyplot as plt\n",
      "import matplotlib\n",
      "\n",
      "plt.style.use('fivethirtyeight')\n",
      "matplotlib.rcParams.update({'font.size': 9})"
     ],
     "language": "python",
     "metadata": {},
     "outputs": [],
     "prompt_number": 2
    },
    {
     "cell_type": "code",
     "collapsed": false,
     "input": [
      "# Accuracy\n",
      "def plot_a(data_prop, data_os, title):\n",
      "    fig = plt.figure(figsize=(12, 6), dpi=200)\n",
      "    plt.plot([x for x, _, _, _ in data_os], [y for _, y, _, _ in data_os], label=\"Firefox data\", color='#3d601f')\n",
      "    plt.plot([x for x, _, _, _ in data_prop], [y for _, y, _, _ in data_prop], label=\"Proprietary data\", color='#7da05f')\n",
      "    plt.title(\"Accuracy of %s\" % title)\n",
      "    plt.ylabel(\"Accuracy\")\n",
      "    plt.xlabel(\"Issues per developer\")\n",
      "    plt.axis([1, 30, 0, 1])\n",
      "    plt.legend()\n",
      "    plt.show()"
     ],
     "language": "python",
     "metadata": {},
     "outputs": [],
     "prompt_number": 3
    },
    {
     "cell_type": "code",
     "collapsed": false,
     "input": [
      "def plot_pr(data_prop, data_os, title):\n",
      "    # Precision and Recall\n",
      "    f, (ax1, ax2) = plt.subplots(1, 2, sharex=True, figsize=(12, 6), dpi=200)\n",
      "    \n",
      "    ax1.plot([x for x, _, _, _ in data_os], [y for _, _, y, _ in data_os], label=\"Firefox data\", color='#0072aa')\n",
      "    ax1.plot([x for x, _, _, _ in data_prop], [y for _, _, y, _ in data_prop], label=\"Proprietary data\", color='#40b2ea')\n",
      "    ax1.axis([1, 30, 0, 1])\n",
      "    ax1.legend()\n",
      "    \n",
      "    ax2.plot([x for x, _, _, _ in data_os], [y for _, _, _, y in data_os], label=\"Firefox data\", color='#cc1f00')\n",
      "    ax2.plot([x for x, _, _, _ in data_prop], [y for _, _, _, y in data_prop], label=\"Proprietary data\", color='#ff5f40')\n",
      "    ax2.axis([1, 30, 0, 1])\n",
      "    ax2.legend()\n",
      "    \n",
      "    f.text(0.04, 0.5, 'Precesion', ha='center', va='center', rotation='vertical')\n",
      "    f.text(0.51, 0.5, 'Recall', ha='center', va='center', rotation='vertical')\n",
      "    f.text(0.5, 0.96, \"Precision and Recall of %s\" % title, ha='center', va='center')\n",
      "    f.text(0.5, 0.02, 'Issues per developer', ha='center', va='center')\n",
      "    \n",
      "    plt.show()"
     ],
     "language": "python",
     "metadata": {},
     "outputs": [],
     "prompt_number": 4
    },
    {
     "cell_type": "code",
     "collapsed": false,
     "input": [
      "plot_a(svm_prop2, svm_os, \"SVM model with TF-IDF\")"
     ],
     "language": "python",
     "metadata": {},
     "outputs": [],
     "prompt_number": 5
    },
    {
     "cell_type": "code",
     "collapsed": false,
     "input": [
      "plot_pr(svm_prop2, svm_os, \"SVM model with TF-IDF\")"
     ],
     "language": "python",
     "metadata": {},
     "outputs": [],
     "prompt_number": 6
    },
    {
     "cell_type": "code",
     "collapsed": false,
     "input": [
      "plot_a(nb_prop2, nb_os, \"NB model\")"
     ],
     "language": "python",
     "metadata": {},
     "outputs": [],
     "prompt_number": 7
    },
    {
     "cell_type": "code",
     "collapsed": false,
     "input": [
      "plot_pr(nb_prop2, nb_os, \"NB model\")"
     ],
     "language": "python",
     "metadata": {},
     "outputs": [],
     "prompt_number": 8
    },
    {
     "cell_type": "code",
     "collapsed": false,
     "input": [
      "plot_a(cart_prop2, cart_os, \"CART model\")"
     ],
     "language": "python",
     "metadata": {},
     "outputs": [],
     "prompt_number": 6
    },
    {
     "cell_type": "code",
     "collapsed": false,
     "input": [
      "plot_pr(cart_prop2, cart_os, \"CART model\")"
     ],
     "language": "python",
     "metadata": {},
     "outputs": [],
     "prompt_number": 7
    },
    {
     "cell_type": "code",
     "collapsed": false,
     "input": [],
     "language": "python",
     "metadata": {},
     "outputs": []
    }
   ],
   "metadata": {}
  }
 ]
}