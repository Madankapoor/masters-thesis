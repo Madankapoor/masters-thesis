{
 "metadata": {
  "name": ""
 },
 "nbformat": 3,
 "nbformat_minor": 0,
 "worksheets": [
  {
   "cells": [
    {
     "cell_type": "code",
     "collapsed": false,
     "input": [
      "import numpy as np\n",
      "from matplotlib import pyplot as plt\n",
      "import sys\n",
      "import time\n",
      "import lda\n",
      "\n",
      "sys.path.append(\"..\")\n",
      "from triager.classifier import models, kernels, selectors, tests, utils\n",
      "from triager.classifier.parsers import Label\n",
      "from triager import parsers"
     ],
     "language": "python",
     "metadata": {},
     "outputs": [],
     "prompt_number": 1
    },
    {
     "cell_type": "code",
     "collapsed": false,
     "input": [
      "parser = parsers.BugzillaParser(\"../data/opensource/mozilla_firefox\", label=Label.COMPONENT)\n",
      "docs = parser.parse()\n",
      "parser_mrb = parsers.MRSParser(\"../data/prop/MRs/\", project_match=\"OPW.*\")\n",
      "docs_mrb = parser_mrb.parse()"
     ],
     "language": "python",
     "metadata": {},
     "outputs": [
      {
       "output_type": "stream",
       "stream": "stderr",
       "text": [
        "WARNING:root:Could not parse description from ticket I04953\n"
       ]
      }
     ],
     "prompt_number": 2
    },
    {
     "cell_type": "code",
     "collapsed": false,
     "input": [
      "distribution = {}\n",
      "all_labels = []\n",
      "for doc in docs:\n",
      "    created = time.strptime(doc._created, \"%Y-%m-%dT%H:%M:%SZ\")\n",
      "    if created.tm_year not in distribution:\n",
      "        distribution[created.tm_year] = {}\n",
      "    if created.tm_mon not in distribution[created.tm_year]:\n",
      "        distribution[created.tm_year][created.tm_mon] = {}\n",
      "    if doc.label not in distribution[created.tm_year][created.tm_mon]:\n",
      "        distribution[created.tm_year][created.tm_mon][doc.label] = 1\n",
      "    else:\n",
      "        distribution[created.tm_year][created.tm_mon][doc.label] += 1\n",
      "    if doc.label not in all_labels:\n",
      "        all_labels.append(doc.label)\n",
      "\n",
      "lbl_dst = {}\n",
      "for label in all_labels:\n",
      "    lbl_dst[label] = []\n",
      "    for year in [2010, 2011, 2012, 2013, 2014, 2015]:\n",
      "        for month in range(1, 13):\n",
      "            if year == 2015 and month > 2:\n",
      "                break\n",
      "            if label in distribution[year][month]:\n",
      "                lbl_dst[label].append(distribution[year][month][label])\n",
      "            else:\n",
      "                lbl_dst[label].append(0)"
     ],
     "language": "python",
     "metadata": {},
     "outputs": [],
     "prompt_number": 15
    },
    {
     "cell_type": "code",
     "collapsed": false,
     "input": [
      "y = [values for _, values in lbl_dst.items()]\n",
      "y_t = np.transpose(y)\n",
      "y = np.transpose(map(lambda y1: np.array(y1)/float(np.sum(y1)), y_t))\n",
      "x = np.arange(1, 63)\n",
      "fig, ax = plt.subplots(figsize=(12, 6), dpi=100)\n",
      "colors = [(x1/62.0, x1/62.0, x1/62.0) for x1 in x]\n",
      "ax.stackplot(x, y, edgecolor=\"none\", colors=colors)\n",
      "ax.axis([1, 61, 0, 1])\n",
      "plt.xlabel(\"Month\")\n",
      "plt.ylabel(\"Fraction of Reports\")\n",
      "plt.title(\"Time-Window Analysis of Firefox Data Based on Components\")\n",
      "plt.show()"
     ],
     "language": "python",
     "metadata": {},
     "outputs": [],
     "prompt_number": 74
    },
    {
     "cell_type": "code",
     "collapsed": false,
     "input": [
      "selector = selectors.BasicSelector()\n",
      "X, Y = selector.build(docs)"
     ],
     "language": "python",
     "metadata": {},
     "outputs": [],
     "prompt_number": 16
    },
    {
     "cell_type": "code",
     "collapsed": false,
     "input": [
      "lda_fx = lda.LDA(n_topics=30, n_iter=1500, random_state=1)\n",
      "topics = lda_fx.fit_transform(X)"
     ],
     "language": "python",
     "metadata": {},
     "outputs": [],
     "prompt_number": 17
    },
    {
     "cell_type": "code",
     "collapsed": false,
     "input": [
      "distribution = {}\n",
      "all_labels = []\n",
      "for i, doc in enumerate(docs):\n",
      "    doc_topic = topics[i].argmax()\n",
      "    created = time.strptime(doc._created, \"%Y-%m-%dT%H:%M:%SZ\")\n",
      "    if created.tm_year not in distribution:\n",
      "        distribution[created.tm_year] = {}\n",
      "    if created.tm_mon not in distribution[created.tm_year]:\n",
      "        distribution[created.tm_year][created.tm_mon] = {}\n",
      "    if doc_topic not in distribution[created.tm_year][created.tm_mon]:\n",
      "        distribution[created.tm_year][created.tm_mon][doc_topic] = 1\n",
      "    else:\n",
      "        distribution[created.tm_year][created.tm_mon][doc_topic] += 1\n",
      "\n",
      "lbl_dst = {}\n",
      "for label in range(0, 30):\n",
      "    lbl_dst[label] = []\n",
      "    for year in [2010, 2011, 2012, 2013, 2014, 2015]:\n",
      "        for month in range(1, 13):\n",
      "            if year == 2015 and month > 2:\n",
      "                break\n",
      "            if label in distribution[year][month]:\n",
      "                lbl_dst[label].append(distribution[year][month][label])\n",
      "            else:\n",
      "                lbl_dst[label].append(0)"
     ],
     "language": "python",
     "metadata": {},
     "outputs": [],
     "prompt_number": 18
    },
    {
     "cell_type": "code",
     "collapsed": false,
     "input": [
      "y = [values for _, values in lbl_dst.items()]\n",
      "y_t = np.transpose(y)\n",
      "y = np.transpose(map(lambda y1: np.array(y1)/float(np.sum(y1)), y_t))\n",
      "x = np.arange(1, 63)\n",
      "fig, ax = plt.subplots(figsize=(12, 6), dpi=100)\n",
      "colors = [(x1/30.0, x1/30.0, x1/30.0) for x1 in range(0,30)]\n",
      "ax.stackplot(x, y, edgecolor=\"none\", colors=colors)\n",
      "ax.axis([1, 61, 0, 1])\n",
      "plt.xlabel(\"Month\")\n",
      "plt.ylabel(\"Fraction of Reports\")\n",
      "plt.title(\"Time-Window Analysis of Firefox Data Based on Topics\")\n",
      "plt.show()"
     ],
     "language": "python",
     "metadata": {},
     "outputs": [],
     "prompt_number": 19
    },
    {
     "cell_type": "code",
     "collapsed": false,
     "input": [
      "selector = selectors.BasicSelector()\n",
      "X, Y = selector.build(docs_mrb)\n",
      "lda_mrb = lda.LDA(n_topics=30, n_iter=1500, random_state=1)\n",
      "topics_mrb = lda_mrb.fit_transform(X)"
     ],
     "language": "python",
     "metadata": {},
     "outputs": [],
     "prompt_number": 20
    },
    {
     "cell_type": "code",
     "collapsed": false,
     "input": [
      "distribution = {}\n",
      "all_labels = []\n",
      "for i, doc in enumerate(docs_mrb):\n",
      "    doc_topic = topics_mrb[i].argmax()\n",
      "    created = time.strptime(doc._created, \"%y.%m.%d\")\n",
      "    if created.tm_year not in distribution:\n",
      "        distribution[created.tm_year] = {}\n",
      "    if created.tm_mon not in distribution[created.tm_year]:\n",
      "        distribution[created.tm_year][created.tm_mon] = {}\n",
      "    if doc_topic not in distribution[created.tm_year][created.tm_mon]:\n",
      "        distribution[created.tm_year][created.tm_mon][doc_topic] = 1\n",
      "    else:\n",
      "        distribution[created.tm_year][created.tm_mon][doc_topic] += 1\n",
      "\n",
      "lbl_dst = {}\n",
      "for label in range(0, 30):\n",
      "    lbl_dst[label] = []\n",
      "    for year in [2009, 2010, 2011, 2012]:\n",
      "        for month in range(1, 13):\n",
      "            if month not in distribution[year]:\n",
      "                lbl_dst[label].append(0)\n",
      "            if label in distribution[year][month]:\n",
      "                lbl_dst[label].append(distribution[year][month][label])\n",
      "            else:\n",
      "                lbl_dst[label].append(0)"
     ],
     "language": "python",
     "metadata": {},
     "outputs": [],
     "prompt_number": 21
    },
    {
     "cell_type": "code",
     "collapsed": false,
     "input": [
      "y = [values for _, values in lbl_dst.items()]\n",
      "y_t = np.transpose(y)\n",
      "y = np.transpose(map(lambda y1: np.array(y1)/float(np.sum(y1)), y_t))\n",
      "x = np.arange(1, 49)\n",
      "fig, ax = plt.subplots(figsize=(12, 6), dpi=100)\n",
      "colors = [(x1/30.0, x1/30.0, x1/30.0) for x1 in range(0,30)]\n",
      "ax.stackplot(x, y, edgecolor=\"none\", colors=colors)\n",
      "ax.axis([1, 48, 0, 1])\n",
      "plt.xlabel(\"Month\")\n",
      "plt.ylabel(\"Fraction of Reports\")\n",
      "plt.title(\"Time-Window Analysis of Proprietary Data Based on Topics\")\n",
      "plt.show()"
     ],
     "language": "python",
     "metadata": {},
     "outputs": [],
     "prompt_number": 22
    },
    {
     "cell_type": "code",
     "collapsed": false,
     "input": [],
     "language": "python",
     "metadata": {},
     "outputs": []
    }
   ],
   "metadata": {}
  }
 ]
}